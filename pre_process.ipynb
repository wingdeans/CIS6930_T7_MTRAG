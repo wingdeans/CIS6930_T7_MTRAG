{
 "cells": [
  {
   "cell_type": "code",
   "id": "initial_id",
   "metadata": {
    "collapsed": true,
    "ExecuteTime": {
     "end_time": "2025-10-28T23:13:19.426252Z",
     "start_time": "2025-10-28T23:13:17.236560Z"
    }
   },
   "source": [
    "from openai import OpenAI\n",
    "import os\n",
    "\n",
    "os.environ.get(\"NAVIGATOR_TOOLKIT_API_KEY\"),\n",
    "\n",
    "\n",
    "client = OpenAI(\n",
    "  api_key=os.environ.get(\"NAVIGATOR_TOOLKIT_API_KEY\"),\n",
    "  base_url=\"https://api.ai.it.ufl.edu/v1\"\n",
    ")\n",
    "\n",
    "response = client.chat.completions.create(\n",
    "  model=\"gpt-oss-120b\", # model to send to the proxy\n",
    "  messages = [\n",
    "      { \"role\": \"system\", \"content\": \"You are a helpful assistant.\" },\n",
    "      {\n",
    "          \"role\": \"user\",\n",
    "          \"content\": \"Write a haiku about an alligator.\"\n",
    "      }\n",
    "  ]\n",
    ")\n",
    "print(response.choices[0].message)"
   ],
   "outputs": [
    {
     "name": "stdout",
     "output_type": "stream",
     "text": [
      "ChatCompletionMessage(content='Silent riverbank,  \\nScales glint in the amber sun,  \\nJaw snaps—still water.', refusal=None, role='assistant', annotations=None, audio=None, function_call=None, tool_calls=None, reasoning_content='We need to produce a haiku (5-7-5 syllable). The user wants a haiku about an alligator. Just produce it. Ensure correct syllable count. Let\\'s craft:\\n\\nSilent riverbank,\\nScales glint in the amber sun,\\nJaw snaps—still water.\\n\\nCount: \"Silent\" (2), \"riverbank\" (3) =5. Good first line 5.\\n\\nSecond line: \"Scales\" (1) \"glint\" (1) \"in\" (1) \"the\" (1) \"amber\" (2) \"sun\" (1) =7? Let\\'s count: Scales(1), glint(1) =>2, in(1)=>3, the(1)=>4, amber(2)=>6, sun(1)=>7. Good.\\n\\nThird line: \"Jaw\" (1) \"snaps—still\" (snaps=1, still=1) that\\'s 2? But \"snaps—still\" together maybe counts as two syllables. \"water\" (2). So far: Jaw (1), snaps (1)=2, still (1)=3, water (2)=5. So 5 syllables. Good.\\n\\nMake sure punctuation doesn\\'t affect. Provide haiku.')\n"
     ]
    }
   ],
   "execution_count": 1
  },
  {
   "metadata": {
    "ExecuteTime": {
     "end_time": "2025-10-28T23:13:19.726742Z",
     "start_time": "2025-10-28T23:13:19.431520Z"
    }
   },
   "cell_type": "code",
   "source": [
    "import os\n",
    "import time\n",
    "import pandas as pd\n",
    "from typing import Optional\n",
    "from openai import OpenAI\n",
    "from tqdm import tqdm\n"
   ],
   "id": "1fa66a22fc43b546",
   "outputs": [],
   "execution_count": 2
  },
  {
   "metadata": {
    "ExecuteTime": {
     "end_time": "2025-10-28T23:13:19.737070Z",
     "start_time": "2025-10-28T23:13:19.734239Z"
    }
   },
   "cell_type": "code",
   "source": [
    "# ========= USER CONFIG =========\n",
    "\n",
    "# When viewing on Windows\n",
    "# Excel: use Data → Get Data → From Text/CSV → File Origin: UTF-8.\n",
    "INPUT_TSV  = \"train_df_distractors.tsv\"     # <- your dataset file\n",
    "OUTPUT_TSV = \"train_df_with_cot.tsv\"        # result\n",
    "# MODEL      = \"flux.1-schnell\"        # proxy model name took me an 1hr 45 min to run\n",
    "MODEL = \"llama-3.1-70b-instruct\" \n",
    "TEMP       = 0.2\n",
    "MAX_TOKENS = 512\n",
    "# ================================="
   ],
   "id": "dc6607ad5f58b218",
   "outputs": [],
   "execution_count": 3
  },
  {
   "metadata": {
    "ExecuteTime": {
     "end_time": "2025-10-28T23:13:20.339817Z",
     "start_time": "2025-10-28T23:13:19.741684Z"
    }
   },
   "cell_type": "code",
   "source": [
    "# IMPORTANT: keep secrets in env vars\n",
    "#   export NAVIGATOR_TOOLKIT_API_KEY=\"YOUR_KEY\"\n",
    "client = OpenAI(\n",
    "    api_key=os.environ.get(\"NAVIGATOR_TOOLKIT_API_KEY\"),\n",
    "\n",
    "    base_url=\"https://api.ai.it.ufl.edu/v1\"\n",
    ")\n",
    "from openai import OpenAI\n",
    "client = OpenAI(base_url=\"https://api.ai.it.ufl.edu/v1\", api_key=os.environ.get(\"NAVIGATOR_TOOLKIT_API_KEY\"))\n",
    "\n",
    "available = [m.id for m in client.models.list().data]\n",
    "print(\"\\n\".join(sorted(available)))\n"
   ],
   "id": "697177b1946ac137",
   "outputs": [
    {
     "name": "stdout",
     "output_type": "stream",
     "text": [
      "codestral-22b\n",
      "flux.1-dev\n",
      "flux.1-schnell\n",
      "gemma-3-27b-it\n",
      "gpt-oss-120b\n",
      "gpt-oss-20b\n",
      "granite-3.3-8b-instruct\n",
      "kokoro\n",
      "llama-3.1-70b-instruct\n",
      "llama-3.1-8b-instruct\n",
      "llama-3.1-nemotron-nano-8B-v1\n",
      "llama-3.3-70b-instruct\n",
      "mistral-7b-instruct\n",
      "mistral-small-3.1\n",
      "nomic-embed-text-v1.5\n",
      "sfr-embedding-mistral\n",
      "whisper-large-v3\n"
     ]
    }
   ],
   "execution_count": 4
  },
  {
   "metadata": {
    "ExecuteTime": {
     "end_time": "2025-10-28T23:13:20.348253Z",
     "start_time": "2025-10-28T23:13:20.345617Z"
    }
   },
   "cell_type": "code",
   "source": [
    "\n",
    "SYSTEM_PROMPT = (\n",
    "    \"You are a careful, faithful reasoning assistant. \"\n",
    "    \"Given a question, context, and gold answer, produce a short, logical reasoning \"\n",
    "    \"that JUSTIFIES the answer using ONLY the context. \"\n",
    "    \"You MUST quote exact snippets from the context with double quotes. \"\n",
    "    \"Keep the reasoning concise (2–6 sentences). \"\n",
    "    \"Return output in one line, strictly as: \"\n",
    "    \"##Reason: {reason} ##Answer: {answer}\"\n",
    ")\n",
    "\n",
    "# Your requested instruction template\n",
    "USER_TEMPLATE = \"\"\"Question:\n",
    "{question}\n",
    "\n",
    "Context:\n",
    "\\\"\\\"\\\"{context}\\\"\\\"\\\"\n",
    "\n",
    "Gold Answer:\n",
    "{answer}\n",
    "\n",
    "Instruction: given the question, context, and answer above, provide a logical reasoning for that answer.\n",
    "Please use the format of: ##Reason: {{reason}} ##Answer: {{answer}}.\n",
    "Use quotes to directly refer to passages from the context in the reason.\n",
    "\"\"\""
   ],
   "id": "6a6e39d84cfbcf40",
   "outputs": [],
   "execution_count": 5
  },
  {
   "metadata": {
    "ExecuteTime": {
     "end_time": "2025-10-28T23:13:20.367082Z",
     "start_time": "2025-10-28T23:13:20.357650Z"
    }
   },
   "cell_type": "code",
   "source": [
    "import json, time, random, traceback\n",
    "from typing import Optional\n",
    "\n",
    "def call_model(question: str, context: str, answer: str,\n",
    "               max_retries: int = 5, base_delay: float = 1.5,\n",
    "               debug: bool = False) -> Optional[str]:\n",
    "    \"\"\"\n",
    "    Robust OpenAI API call with detailed input + API error logging.\n",
    "\n",
    "    Returns model output text or None if all retries fail.\n",
    "    Logs descriptive reasons for both input and API failures.\n",
    "    \"\"\"\n",
    "\n",
    "    # ====== Input validation ======\n",
    "    def check_input(name, value):\n",
    "        if value is None:\n",
    "            print(f\"[input-error] {name} is None (missing value). Skipping this row.\")\n",
    "            return False\n",
    "        if not isinstance(value, str):\n",
    "            print(f\"[input-error] {name} is not a string (type={type(value)}). Skipping this row.\")\n",
    "            return False\n",
    "        if len(value.strip()) == 0:\n",
    "            print(f\"[input-error] {name} is empty after stripping whitespace.\")\n",
    "            return False\n",
    "        return True\n",
    "\n",
    "    ok_q = check_input(\"question\", question)\n",
    "    ok_c = check_input(\"context\", context)\n",
    "    ok_a = check_input(\"answer\", answer)\n",
    "    if not (ok_q and ok_c and ok_a):\n",
    "        with open(\"api_failures.log\", \"a\", encoding=\"utf-8\") as logf:\n",
    "            logf.write(f\"\\n[{time.strftime('%Y-%m-%d %H:%M:%S')}] \"\n",
    "                       f\"INPUT ERROR | Q={ok_q} C={ok_c} A={ok_a} | \"\n",
    "                       f\"question={repr(question)[:200]} context_len={len(str(context))} answer={repr(answer)}\\n\")\n",
    "        return None\n",
    "\n",
    "    if len(context) < 50:\n",
    "        print(f\"[warn] Context unusually short ({len(context)} chars). May produce weak reasoning.\")\n",
    "    if len(context) > 8000:\n",
    "        print(f\"[warn] Context very long ({len(context)} chars). May cause truncation or timeout.\")\n",
    "\n",
    "    # ====== Message assembly ======\n",
    "    user_msg = USER_TEMPLATE.format(question=question, context=context, answer=answer)\n",
    "    messages = [\n",
    "        {\"role\": \"system\", \"content\": SYSTEM_PROMPT},\n",
    "        {\"role\": \"user\", \"content\": user_msg},\n",
    "    ]\n",
    "\n",
    "    # ====== API call with retry ======\n",
    "    for attempt in range(max_retries):\n",
    "        try:\n",
    "            resp = client.chat.completions.create(\n",
    "                model=MODEL,\n",
    "                temperature=TEMP,\n",
    "                max_tokens=MAX_TOKENS,\n",
    "                messages=messages,\n",
    "            )\n",
    "\n",
    "            if resp is None:\n",
    "                print(f\"[error] Null response (connection timeout?) on attempt {attempt+1}.\")\n",
    "                time.sleep(base_delay * (2 ** attempt))\n",
    "                continue\n",
    "\n",
    "            if debug:\n",
    "                print(json.dumps(resp.to_dict(), indent=2))\n",
    "\n",
    "            if not hasattr(resp, \"choices\") or not resp.choices:\n",
    "                print(f\"[error] No 'choices' in response on attempt {attempt+1}.\")\n",
    "                time.sleep(base_delay * (2 ** attempt))\n",
    "                continue\n",
    "\n",
    "            choice = resp.choices[0]\n",
    "            message = getattr(choice, \"message\", None)\n",
    "            text = getattr(message, \"content\", None)\n",
    "\n",
    "            if text is None:\n",
    "                finish_reason = getattr(choice, \"finish_reason\", \"unknown\")\n",
    "                print(f\"[warn] Got None content on attempt {attempt+1}. finish_reason={finish_reason}\")\n",
    "                time.sleep(base_delay * (2 ** attempt))\n",
    "                continue\n",
    "\n",
    "            text = \" \".join(text.split())\n",
    "            return text\n",
    "\n",
    "        except Exception as e:\n",
    "            err_type = type(e).__name__\n",
    "            err_msg = str(e)\n",
    "\n",
    "            if \"Timeout\" in err_msg or \"Read timed out\" in err_msg:\n",
    "                cause = \"network timeout\"\n",
    "            elif \"429\" in err_msg:\n",
    "                cause = \"rate limit (HTTP 429)\"\n",
    "            elif \"ServiceUnavailable\" in err_msg or \"503\" in err_msg:\n",
    "                cause = \"API overload\"\n",
    "            elif \"ConnectionError\" in err_msg or \"Max retries exceeded\" in err_msg:\n",
    "                cause = \"network connection problem\"\n",
    "            elif \"invalid_request\" in err_msg or \"400\" in err_msg:\n",
    "                cause = \"bad request (possibly too long context)\"\n",
    "            else:\n",
    "                cause = \"unknown API/SDK error\"\n",
    "\n",
    "            print(f\"[warn] Attempt {attempt+1} failed: {err_type} ({cause})\")\n",
    "            print(f\"   ↳ message: {err_msg[:200]}\")\n",
    "\n",
    "            with open(\"api_failures.log\", \"a\", encoding=\"utf-8\") as logf:\n",
    "                logf.write(f\"\\n[{time.strftime('%Y-%m-%d %H:%M:%S')}] \"\n",
    "                           f\"Attempt {attempt+1} | Cause: {cause}\\n\"\n",
    "                           f\"Inputs: Q={repr(question)[:100]} | \"\n",
    "                           f\"C_len={len(context)} | A={repr(answer)}\\n\"\n",
    "                           f\"{traceback.format_exc()}\\n\")\n",
    "\n",
    "            wait = base_delay * (2 ** attempt) + random.uniform(0, 0.5)\n",
    "            print(f\"   Retrying in {wait:.1f}s...\\n\")\n",
    "            time.sleep(wait)\n",
    "\n",
    "    print(\"[error] All retries failed. Giving up for this entry.\")\n",
    "    return None\n"
   ],
   "id": "5d06d963fcb53b3d",
   "outputs": [],
   "execution_count": 6
  },
  {
   "metadata": {
    "ExecuteTime": {
     "end_time": "2025-10-29T00:26:04.231287Z",
     "start_time": "2025-10-28T23:13:20.373062Z"
    }
   },
   "cell_type": "code",
   "source": [
    "df = pd.read_csv(\"train_df_distractors.tsv\", sep=\"\\t\", dtype=str, keep_default_na=False)\n",
    "df[\"cot\"] = \"\"\n",
    "\n",
    "for i in tqdm(range(len(df))):\n",
    "    context, question, answer = df.at[i, \"context\"], df.at[i, \"question\"], df.at[i, \"answer\"]\n",
    "    cot = call_model(question, context, answer)\n",
    "    df.at[i, \"cot\"] = cot or \"\"\n",
    "\n",
    "df.to_csv(\"train_df_with_cot.tsv\", sep=\"\\t\", index=False)\n"
   ],
   "id": "85cccbd89377c11b",
   "outputs": [
    {
     "name": "stderr",
     "output_type": "stream",
     "text": [
      "  1%|          | 8/676 [00:24<30:37,  2.75s/it]"
     ]
    },
    {
     "name": "stdout",
     "output_type": "stream",
     "text": [
      "[warn] Context very long (10244 chars). May cause truncation or timeout.\n"
     ]
    },
    {
     "name": "stderr",
     "output_type": "stream",
     "text": [
      "  1%|▏         | 9/676 [00:35<56:25,  5.08s/it]"
     ]
    },
    {
     "name": "stdout",
     "output_type": "stream",
     "text": [
      "[warn] Context very long (10244 chars). May cause truncation or timeout.\n"
     ]
    },
    {
     "name": "stderr",
     "output_type": "stream",
     "text": [
      "  1%|▏         | 10/676 [00:41<1:02:30,  5.63s/it]"
     ]
    },
    {
     "name": "stdout",
     "output_type": "stream",
     "text": [
      "[warn] Context very long (9627 chars). May cause truncation or timeout.\n"
     ]
    },
    {
     "name": "stderr",
     "output_type": "stream",
     "text": [
      "  2%|▏         | 11/676 [00:46<57:09,  5.16s/it]  "
     ]
    },
    {
     "name": "stdout",
     "output_type": "stream",
     "text": [
      "[warn] Context very long (10761 chars). May cause truncation or timeout.\n"
     ]
    },
    {
     "name": "stderr",
     "output_type": "stream",
     "text": [
      "  2%|▏         | 12/676 [00:57<1:18:07,  7.06s/it]"
     ]
    },
    {
     "name": "stdout",
     "output_type": "stream",
     "text": [
      "[warn] Context very long (11270 chars). May cause truncation or timeout.\n"
     ]
    },
    {
     "name": "stderr",
     "output_type": "stream",
     "text": [
      "  2%|▏         | 13/676 [01:01<1:09:14,  6.27s/it]"
     ]
    },
    {
     "name": "stdout",
     "output_type": "stream",
     "text": [
      "[warn] Context very long (10340 chars). May cause truncation or timeout.\n"
     ]
    },
    {
     "name": "stderr",
     "output_type": "stream",
     "text": [
      "  2%|▏         | 14/676 [01:05<58:54,  5.34s/it]  "
     ]
    },
    {
     "name": "stdout",
     "output_type": "stream",
     "text": [
      "[warn] Context very long (9459 chars). May cause truncation or timeout.\n"
     ]
    },
    {
     "name": "stderr",
     "output_type": "stream",
     "text": [
      "  2%|▏         | 15/676 [01:09<56:17,  5.11s/it]"
     ]
    },
    {
     "name": "stdout",
     "output_type": "stream",
     "text": [
      "[warn] Context very long (11686 chars). May cause truncation or timeout.\n"
     ]
    },
    {
     "name": "stderr",
     "output_type": "stream",
     "text": [
      "  2%|▏         | 16/676 [01:15<1:00:02,  5.46s/it]"
     ]
    },
    {
     "name": "stdout",
     "output_type": "stream",
     "text": [
      "[warn] Context very long (10689 chars). May cause truncation or timeout.\n"
     ]
    },
    {
     "name": "stderr",
     "output_type": "stream",
     "text": [
      "  3%|▎         | 17/676 [01:22<1:02:06,  5.66s/it]"
     ]
    },
    {
     "name": "stdout",
     "output_type": "stream",
     "text": [
      "[warn] Context very long (10452 chars). May cause truncation or timeout.\n"
     ]
    },
    {
     "name": "stderr",
     "output_type": "stream",
     "text": [
      "  3%|▎         | 18/676 [01:29<1:06:49,  6.09s/it]"
     ]
    },
    {
     "name": "stdout",
     "output_type": "stream",
     "text": [
      "[warn] Context very long (10640 chars). May cause truncation or timeout.\n"
     ]
    },
    {
     "name": "stderr",
     "output_type": "stream",
     "text": [
      "  3%|▎         | 19/676 [01:32<56:05,  5.12s/it]  "
     ]
    },
    {
     "name": "stdout",
     "output_type": "stream",
     "text": [
      "[warn] Context very long (10378 chars). May cause truncation or timeout.\n"
     ]
    },
    {
     "name": "stderr",
     "output_type": "stream",
     "text": [
      "  3%|▎         | 20/676 [01:41<1:10:11,  6.42s/it]"
     ]
    },
    {
     "name": "stdout",
     "output_type": "stream",
     "text": [
      "[warn] Context very long (9365 chars). May cause truncation or timeout.\n"
     ]
    },
    {
     "name": "stderr",
     "output_type": "stream",
     "text": [
      "  3%|▎         | 21/676 [01:49<1:16:14,  6.98s/it]"
     ]
    },
    {
     "name": "stdout",
     "output_type": "stream",
     "text": [
      "[warn] Context very long (10923 chars). May cause truncation or timeout.\n"
     ]
    },
    {
     "name": "stderr",
     "output_type": "stream",
     "text": [
      "  3%|▎         | 22/676 [02:00<1:26:50,  7.97s/it]"
     ]
    },
    {
     "name": "stdout",
     "output_type": "stream",
     "text": [
      "[warn] Context very long (10632 chars). May cause truncation or timeout.\n"
     ]
    },
    {
     "name": "stderr",
     "output_type": "stream",
     "text": [
      "  6%|▌         | 38/676 [03:40<56:53,  5.35s/it]  "
     ]
    },
    {
     "name": "stdout",
     "output_type": "stream",
     "text": [
      "[warn] Context very long (10416 chars). May cause truncation or timeout.\n"
     ]
    },
    {
     "name": "stderr",
     "output_type": "stream",
     "text": [
      "  6%|▌         | 39/676 [03:48<1:02:56,  5.93s/it]"
     ]
    },
    {
     "name": "stdout",
     "output_type": "stream",
     "text": [
      "[warn] Context very long (8214 chars). May cause truncation or timeout.\n"
     ]
    },
    {
     "name": "stderr",
     "output_type": "stream",
     "text": [
      "  6%|▌         | 40/676 [03:54<1:03:50,  6.02s/it]"
     ]
    },
    {
     "name": "stdout",
     "output_type": "stream",
     "text": [
      "[warn] Context very long (11173 chars). May cause truncation or timeout.\n"
     ]
    },
    {
     "name": "stderr",
     "output_type": "stream",
     "text": [
      "  6%|▌         | 41/676 [03:59<1:01:44,  5.83s/it]"
     ]
    },
    {
     "name": "stdout",
     "output_type": "stream",
     "text": [
      "[warn] Context very long (10051 chars). May cause truncation or timeout.\n"
     ]
    },
    {
     "name": "stderr",
     "output_type": "stream",
     "text": [
      "  6%|▌         | 42/676 [04:05<1:00:42,  5.74s/it]"
     ]
    },
    {
     "name": "stdout",
     "output_type": "stream",
     "text": [
      "[warn] Context very long (11150 chars). May cause truncation or timeout.\n"
     ]
    },
    {
     "name": "stderr",
     "output_type": "stream",
     "text": [
      "  6%|▋         | 43/676 [04:10<1:00:28,  5.73s/it]"
     ]
    },
    {
     "name": "stdout",
     "output_type": "stream",
     "text": [
      "[warn] Context very long (9880 chars). May cause truncation or timeout.\n"
     ]
    },
    {
     "name": "stderr",
     "output_type": "stream",
     "text": [
      "  7%|▋         | 44/676 [04:16<59:53,  5.69s/it]  "
     ]
    },
    {
     "name": "stdout",
     "output_type": "stream",
     "text": [
      "[warn] Context very long (10999 chars). May cause truncation or timeout.\n"
     ]
    },
    {
     "name": "stderr",
     "output_type": "stream",
     "text": [
      "  7%|▋         | 45/676 [04:24<1:08:30,  6.51s/it]"
     ]
    },
    {
     "name": "stdout",
     "output_type": "stream",
     "text": [
      "[warn] Context very long (10540 chars). May cause truncation or timeout.\n"
     ]
    },
    {
     "name": "stderr",
     "output_type": "stream",
     "text": [
      "  7%|▋         | 46/676 [04:29<1:00:36,  5.77s/it]"
     ]
    },
    {
     "name": "stdout",
     "output_type": "stream",
     "text": [
      "[warn] Context very long (8434 chars). May cause truncation or timeout.\n"
     ]
    },
    {
     "name": "stderr",
     "output_type": "stream",
     "text": [
      "  7%|▋         | 47/676 [04:32<53:33,  5.11s/it]  "
     ]
    },
    {
     "name": "stdout",
     "output_type": "stream",
     "text": [
      "[warn] Context very long (9480 chars). May cause truncation or timeout.\n"
     ]
    },
    {
     "name": "stderr",
     "output_type": "stream",
     "text": [
      "  7%|▋         | 48/676 [04:37<52:56,  5.06s/it]"
     ]
    },
    {
     "name": "stdout",
     "output_type": "stream",
     "text": [
      "[warn] Context very long (10023 chars). May cause truncation or timeout.\n"
     ]
    },
    {
     "name": "stderr",
     "output_type": "stream",
     "text": [
      "  7%|▋         | 49/676 [04:42<52:00,  4.98s/it]"
     ]
    },
    {
     "name": "stdout",
     "output_type": "stream",
     "text": [
      "[warn] Context very long (8163 chars). May cause truncation or timeout.\n"
     ]
    },
    {
     "name": "stderr",
     "output_type": "stream",
     "text": [
      "  7%|▋         | 50/676 [04:46<50:12,  4.81s/it]"
     ]
    },
    {
     "name": "stdout",
     "output_type": "stream",
     "text": [
      "[warn] Context very long (8899 chars). May cause truncation or timeout.\n"
     ]
    },
    {
     "name": "stderr",
     "output_type": "stream",
     "text": [
      "  8%|▊         | 52/676 [05:03<1:11:23,  6.86s/it]"
     ]
    },
    {
     "name": "stdout",
     "output_type": "stream",
     "text": [
      "[warn] Context very long (9639 chars). May cause truncation or timeout.\n"
     ]
    },
    {
     "name": "stderr",
     "output_type": "stream",
     "text": [
      "  8%|▊         | 53/676 [05:15<1:24:48,  8.17s/it]"
     ]
    },
    {
     "name": "stdout",
     "output_type": "stream",
     "text": [
      "[warn] Context very long (9964 chars). May cause truncation or timeout.\n"
     ]
    },
    {
     "name": "stderr",
     "output_type": "stream",
     "text": [
      " 10%|▉         | 67/676 [07:17<1:21:16,  8.01s/it]"
     ]
    },
    {
     "name": "stdout",
     "output_type": "stream",
     "text": [
      "[warn] Context very long (10875 chars). May cause truncation or timeout.\n"
     ]
    },
    {
     "name": "stderr",
     "output_type": "stream",
     "text": [
      " 10%|█         | 68/676 [07:22<1:10:59,  7.01s/it]"
     ]
    },
    {
     "name": "stdout",
     "output_type": "stream",
     "text": [
      "[warn] Context very long (9196 chars). May cause truncation or timeout.\n"
     ]
    },
    {
     "name": "stderr",
     "output_type": "stream",
     "text": [
      " 10%|█         | 69/676 [07:32<1:20:06,  7.92s/it]"
     ]
    },
    {
     "name": "stdout",
     "output_type": "stream",
     "text": [
      "[warn] Context very long (10517 chars). May cause truncation or timeout.\n"
     ]
    },
    {
     "name": "stderr",
     "output_type": "stream",
     "text": [
      " 10%|█         | 70/676 [07:38<1:15:08,  7.44s/it]"
     ]
    },
    {
     "name": "stdout",
     "output_type": "stream",
     "text": [
      "[warn] Context very long (10822 chars). May cause truncation or timeout.\n"
     ]
    },
    {
     "name": "stderr",
     "output_type": "stream",
     "text": [
      " 11%|█         | 71/676 [07:43<1:07:31,  6.70s/it]"
     ]
    },
    {
     "name": "stdout",
     "output_type": "stream",
     "text": [
      "[warn] Context very long (10781 chars). May cause truncation or timeout.\n"
     ]
    },
    {
     "name": "stderr",
     "output_type": "stream",
     "text": [
      " 11%|█         | 72/676 [07:50<1:06:49,  6.64s/it]"
     ]
    },
    {
     "name": "stdout",
     "output_type": "stream",
     "text": [
      "[warn] Context very long (10536 chars). May cause truncation or timeout.\n"
     ]
    },
    {
     "name": "stderr",
     "output_type": "stream",
     "text": [
      " 11%|█         | 73/676 [07:54<1:00:08,  5.98s/it]"
     ]
    },
    {
     "name": "stdout",
     "output_type": "stream",
     "text": [
      "[warn] Context very long (9594 chars). May cause truncation or timeout.\n"
     ]
    },
    {
     "name": "stderr",
     "output_type": "stream",
     "text": [
      " 11%|█         | 74/676 [08:00<58:44,  5.85s/it]  "
     ]
    },
    {
     "name": "stdout",
     "output_type": "stream",
     "text": [
      "[warn] Context very long (10673 chars). May cause truncation or timeout.\n"
     ]
    },
    {
     "name": "stderr",
     "output_type": "stream",
     "text": [
      " 11%|█         | 75/676 [08:13<1:20:53,  8.08s/it]"
     ]
    },
    {
     "name": "stdout",
     "output_type": "stream",
     "text": [
      "[warn] Context very long (9574 chars). May cause truncation or timeout.\n"
     ]
    },
    {
     "name": "stderr",
     "output_type": "stream",
     "text": [
      " 11%|█         | 76/676 [08:18<1:11:27,  7.15s/it]"
     ]
    },
    {
     "name": "stdout",
     "output_type": "stream",
     "text": [
      "[warn] Context very long (9574 chars). May cause truncation or timeout.\n"
     ]
    },
    {
     "name": "stderr",
     "output_type": "stream",
     "text": [
      " 11%|█▏        | 77/676 [08:25<1:10:10,  7.03s/it]"
     ]
    },
    {
     "name": "stdout",
     "output_type": "stream",
     "text": [
      "[warn] Context very long (10229 chars). May cause truncation or timeout.\n"
     ]
    },
    {
     "name": "stderr",
     "output_type": "stream",
     "text": [
      " 12%|█▏        | 78/676 [08:32<1:09:13,  6.95s/it]"
     ]
    },
    {
     "name": "stdout",
     "output_type": "stream",
     "text": [
      "[warn] Context very long (9561 chars). May cause truncation or timeout.\n"
     ]
    },
    {
     "name": "stderr",
     "output_type": "stream",
     "text": [
      " 12%|█▏        | 79/676 [08:37<1:03:47,  6.41s/it]"
     ]
    },
    {
     "name": "stdout",
     "output_type": "stream",
     "text": [
      "[warn] Context very long (9688 chars). May cause truncation or timeout.\n"
     ]
    },
    {
     "name": "stderr",
     "output_type": "stream",
     "text": [
      " 12%|█▏        | 80/676 [08:41<57:14,  5.76s/it]  "
     ]
    },
    {
     "name": "stdout",
     "output_type": "stream",
     "text": [
      "[warn] Context very long (10064 chars). May cause truncation or timeout.\n"
     ]
    },
    {
     "name": "stderr",
     "output_type": "stream",
     "text": [
      " 12%|█▏        | 81/676 [08:49<1:02:39,  6.32s/it]"
     ]
    },
    {
     "name": "stdout",
     "output_type": "stream",
     "text": [
      "[warn] Context very long (8812 chars). May cause truncation or timeout.\n"
     ]
    },
    {
     "name": "stderr",
     "output_type": "stream",
     "text": [
      " 12%|█▏        | 82/676 [08:56<1:05:44,  6.64s/it]"
     ]
    },
    {
     "name": "stdout",
     "output_type": "stream",
     "text": [
      "[warn] Context very long (10031 chars). May cause truncation or timeout.\n"
     ]
    },
    {
     "name": "stderr",
     "output_type": "stream",
     "text": [
      " 17%|█▋        | 112/676 [11:32<46:27,  4.94s/it]  "
     ]
    },
    {
     "name": "stdout",
     "output_type": "stream",
     "text": [
      "[warn] Context very long (8397 chars). May cause truncation or timeout.\n"
     ]
    },
    {
     "name": "stderr",
     "output_type": "stream",
     "text": [
      " 17%|█▋        | 113/676 [11:48<1:17:20,  8.24s/it]"
     ]
    },
    {
     "name": "stdout",
     "output_type": "stream",
     "text": [
      "[warn] Context very long (8168 chars). May cause truncation or timeout.\n"
     ]
    },
    {
     "name": "stderr",
     "output_type": "stream",
     "text": [
      " 17%|█▋        | 114/676 [12:00<1:27:58,  9.39s/it]"
     ]
    },
    {
     "name": "stdout",
     "output_type": "stream",
     "text": [
      "[warn] Context very long (9423 chars). May cause truncation or timeout.\n"
     ]
    },
    {
     "name": "stderr",
     "output_type": "stream",
     "text": [
      " 17%|█▋        | 115/676 [12:09<1:26:28,  9.25s/it]"
     ]
    },
    {
     "name": "stdout",
     "output_type": "stream",
     "text": [
      "[warn] Context very long (9884 chars). May cause truncation or timeout.\n"
     ]
    },
    {
     "name": "stderr",
     "output_type": "stream",
     "text": [
      " 17%|█▋        | 116/676 [12:25<1:44:14, 11.17s/it]"
     ]
    },
    {
     "name": "stdout",
     "output_type": "stream",
     "text": [
      "[warn] Context very long (8494 chars). May cause truncation or timeout.\n"
     ]
    },
    {
     "name": "stderr",
     "output_type": "stream",
     "text": [
      " 17%|█▋        | 118/676 [12:46<1:39:39, 10.72s/it]"
     ]
    },
    {
     "name": "stdout",
     "output_type": "stream",
     "text": [
      "[warn] Context very long (10012 chars). May cause truncation or timeout.\n"
     ]
    },
    {
     "name": "stderr",
     "output_type": "stream",
     "text": [
      " 18%|█▊        | 121/676 [13:16<1:34:55, 10.26s/it]"
     ]
    },
    {
     "name": "stdout",
     "output_type": "stream",
     "text": [
      "[warn] Context very long (9370 chars). May cause truncation or timeout.\n"
     ]
    },
    {
     "name": "stderr",
     "output_type": "stream",
     "text": [
      " 18%|█▊        | 122/676 [13:26<1:34:16, 10.21s/it]"
     ]
    },
    {
     "name": "stdout",
     "output_type": "stream",
     "text": [
      "[warn] Context very long (9922 chars). May cause truncation or timeout.\n"
     ]
    },
    {
     "name": "stderr",
     "output_type": "stream",
     "text": [
      " 18%|█▊        | 123/676 [13:33<1:24:10,  9.13s/it]"
     ]
    },
    {
     "name": "stdout",
     "output_type": "stream",
     "text": [
      "[warn] Context very long (9506 chars). May cause truncation or timeout.\n"
     ]
    },
    {
     "name": "stderr",
     "output_type": "stream",
     "text": [
      " 18%|█▊        | 124/676 [13:40<1:18:11,  8.50s/it]"
     ]
    },
    {
     "name": "stdout",
     "output_type": "stream",
     "text": [
      "[warn] Context very long (9805 chars). May cause truncation or timeout.\n"
     ]
    },
    {
     "name": "stderr",
     "output_type": "stream",
     "text": [
      " 18%|█▊        | 125/676 [13:44<1:06:46,  7.27s/it]"
     ]
    },
    {
     "name": "stdout",
     "output_type": "stream",
     "text": [
      "[warn] Context very long (9940 chars). May cause truncation or timeout.\n"
     ]
    },
    {
     "name": "stderr",
     "output_type": "stream",
     "text": [
      " 19%|█▊        | 126/676 [13:50<1:02:29,  6.82s/it]"
     ]
    },
    {
     "name": "stdout",
     "output_type": "stream",
     "text": [
      "[warn] Context very long (8178 chars). May cause truncation or timeout.\n"
     ]
    },
    {
     "name": "stderr",
     "output_type": "stream",
     "text": [
      " 23%|██▎       | 156/676 [16:56<59:57,  6.92s/it]  "
     ]
    },
    {
     "name": "stdout",
     "output_type": "stream",
     "text": [
      "[warn] Context very long (8619 chars). May cause truncation or timeout.\n"
     ]
    },
    {
     "name": "stderr",
     "output_type": "stream",
     "text": [
      " 23%|██▎       | 157/676 [17:12<1:23:22,  9.64s/it]"
     ]
    },
    {
     "name": "stdout",
     "output_type": "stream",
     "text": [
      "[warn] Context very long (8767 chars). May cause truncation or timeout.\n"
     ]
    },
    {
     "name": "stderr",
     "output_type": "stream",
     "text": [
      " 23%|██▎       | 158/676 [17:16<1:07:57,  7.87s/it]"
     ]
    },
    {
     "name": "stdout",
     "output_type": "stream",
     "text": [
      "[warn] Context very long (8690 chars). May cause truncation or timeout.\n"
     ]
    },
    {
     "name": "stderr",
     "output_type": "stream",
     "text": [
      " 24%|██▎       | 159/676 [17:24<1:07:24,  7.82s/it]"
     ]
    },
    {
     "name": "stdout",
     "output_type": "stream",
     "text": [
      "[warn] Context very long (8352 chars). May cause truncation or timeout.\n"
     ]
    },
    {
     "name": "stderr",
     "output_type": "stream",
     "text": [
      " 24%|██▎       | 160/676 [17:32<1:08:44,  7.99s/it]"
     ]
    },
    {
     "name": "stdout",
     "output_type": "stream",
     "text": [
      "[warn] Context very long (8893 chars). May cause truncation or timeout.\n"
     ]
    },
    {
     "name": "stderr",
     "output_type": "stream",
     "text": [
      " 24%|██▍       | 161/676 [17:45<1:20:59,  9.44s/it]"
     ]
    },
    {
     "name": "stdout",
     "output_type": "stream",
     "text": [
      "[warn] Context very long (8495 chars). May cause truncation or timeout.\n"
     ]
    },
    {
     "name": "stderr",
     "output_type": "stream",
     "text": [
      " 24%|██▍       | 163/676 [18:04<1:23:38,  9.78s/it]"
     ]
    },
    {
     "name": "stdout",
     "output_type": "stream",
     "text": [
      "[warn] Context very long (8704 chars). May cause truncation or timeout.\n"
     ]
    },
    {
     "name": "stderr",
     "output_type": "stream",
     "text": [
      " 24%|██▍       | 164/676 [18:11<1:16:42,  8.99s/it]"
     ]
    },
    {
     "name": "stdout",
     "output_type": "stream",
     "text": [
      "[warn] Context very long (9955 chars). May cause truncation or timeout.\n"
     ]
    },
    {
     "name": "stderr",
     "output_type": "stream",
     "text": [
      " 24%|██▍       | 165/676 [18:19<1:15:20,  8.85s/it]"
     ]
    },
    {
     "name": "stdout",
     "output_type": "stream",
     "text": [
      "[warn] Context very long (9567 chars). May cause truncation or timeout.\n"
     ]
    },
    {
     "name": "stderr",
     "output_type": "stream",
     "text": [
      " 25%|██▍       | 166/676 [18:24<1:03:27,  7.47s/it]"
     ]
    },
    {
     "name": "stdout",
     "output_type": "stream",
     "text": [
      "[warn] Context very long (9905 chars). May cause truncation or timeout.\n"
     ]
    },
    {
     "name": "stderr",
     "output_type": "stream",
     "text": [
      " 25%|██▍       | 168/676 [18:36<1:00:51,  7.19s/it]"
     ]
    },
    {
     "name": "stdout",
     "output_type": "stream",
     "text": [
      "[warn] Context very long (9364 chars). May cause truncation or timeout.\n"
     ]
    },
    {
     "name": "stderr",
     "output_type": "stream",
     "text": [
      " 25%|██▌       | 169/676 [18:41<54:05,  6.40s/it]  "
     ]
    },
    {
     "name": "stdout",
     "output_type": "stream",
     "text": [
      "[warn] Context very long (9364 chars). May cause truncation or timeout.\n"
     ]
    },
    {
     "name": "stderr",
     "output_type": "stream",
     "text": [
      " 27%|██▋       | 184/676 [20:11<42:46,  5.22s/it]  "
     ]
    },
    {
     "name": "stdout",
     "output_type": "stream",
     "text": [
      "[warn] Context very long (9475 chars). May cause truncation or timeout.\n"
     ]
    },
    {
     "name": "stderr",
     "output_type": "stream",
     "text": [
      " 27%|██▋       | 185/676 [20:15<39:56,  4.88s/it]"
     ]
    },
    {
     "name": "stdout",
     "output_type": "stream",
     "text": [
      "[warn] Context very long (10135 chars). May cause truncation or timeout.\n"
     ]
    },
    {
     "name": "stderr",
     "output_type": "stream",
     "text": [
      " 28%|██▊       | 186/676 [20:25<52:12,  6.39s/it]"
     ]
    },
    {
     "name": "stdout",
     "output_type": "stream",
     "text": [
      "[warn] Context very long (8639 chars). May cause truncation or timeout.\n"
     ]
    },
    {
     "name": "stderr",
     "output_type": "stream",
     "text": [
      " 28%|██▊       | 187/676 [20:29<47:40,  5.85s/it]"
     ]
    },
    {
     "name": "stdout",
     "output_type": "stream",
     "text": [
      "[warn] Context very long (11038 chars). May cause truncation or timeout.\n"
     ]
    },
    {
     "name": "stderr",
     "output_type": "stream",
     "text": [
      " 28%|██▊       | 188/676 [20:38<54:34,  6.71s/it]"
     ]
    },
    {
     "name": "stdout",
     "output_type": "stream",
     "text": [
      "[warn] Context very long (10435 chars). May cause truncation or timeout.\n"
     ]
    },
    {
     "name": "stderr",
     "output_type": "stream",
     "text": [
      " 28%|██▊       | 189/676 [20:43<50:59,  6.28s/it]"
     ]
    },
    {
     "name": "stdout",
     "output_type": "stream",
     "text": [
      "[warn] Context very long (11045 chars). May cause truncation or timeout.\n"
     ]
    },
    {
     "name": "stderr",
     "output_type": "stream",
     "text": [
      " 28%|██▊       | 190/676 [20:47<44:33,  5.50s/it]"
     ]
    },
    {
     "name": "stdout",
     "output_type": "stream",
     "text": [
      "[warn] Context very long (9540 chars). May cause truncation or timeout.\n"
     ]
    },
    {
     "name": "stderr",
     "output_type": "stream",
     "text": [
      " 28%|██▊       | 191/676 [20:54<48:08,  5.96s/it]"
     ]
    },
    {
     "name": "stdout",
     "output_type": "stream",
     "text": [
      "[warn] Context very long (9013 chars). May cause truncation or timeout.\n"
     ]
    },
    {
     "name": "stderr",
     "output_type": "stream",
     "text": [
      " 30%|███       | 205/676 [22:08<49:11,  6.27s/it]"
     ]
    },
    {
     "name": "stdout",
     "output_type": "stream",
     "text": [
      "[warn] Context very long (9877 chars). May cause truncation or timeout.\n"
     ]
    },
    {
     "name": "stderr",
     "output_type": "stream",
     "text": [
      " 30%|███       | 206/676 [22:12<43:10,  5.51s/it]"
     ]
    },
    {
     "name": "stdout",
     "output_type": "stream",
     "text": [
      "[warn] Context very long (9864 chars). May cause truncation or timeout.\n"
     ]
    },
    {
     "name": "stderr",
     "output_type": "stream",
     "text": [
      " 31%|███       | 207/676 [22:20<47:47,  6.11s/it]"
     ]
    },
    {
     "name": "stdout",
     "output_type": "stream",
     "text": [
      "[warn] Context very long (9573 chars). May cause truncation or timeout.\n"
     ]
    },
    {
     "name": "stderr",
     "output_type": "stream",
     "text": [
      " 31%|███       | 208/676 [22:27<50:30,  6.47s/it]"
     ]
    },
    {
     "name": "stdout",
     "output_type": "stream",
     "text": [
      "[warn] Context very long (10527 chars). May cause truncation or timeout.\n"
     ]
    },
    {
     "name": "stderr",
     "output_type": "stream",
     "text": [
      " 31%|███       | 209/676 [22:32<47:44,  6.13s/it]"
     ]
    },
    {
     "name": "stdout",
     "output_type": "stream",
     "text": [
      "[warn] Context very long (10122 chars). May cause truncation or timeout.\n"
     ]
    },
    {
     "name": "stderr",
     "output_type": "stream",
     "text": [
      " 31%|███       | 210/676 [22:45<1:01:40,  7.94s/it]"
     ]
    },
    {
     "name": "stdout",
     "output_type": "stream",
     "text": [
      "[warn] Context very long (9181 chars). May cause truncation or timeout.\n"
     ]
    },
    {
     "name": "stderr",
     "output_type": "stream",
     "text": [
      " 32%|███▏      | 218/676 [23:39<54:24,  7.13s/it]  "
     ]
    },
    {
     "name": "stdout",
     "output_type": "stream",
     "text": [
      "[warn] Context very long (10393 chars). May cause truncation or timeout.\n"
     ]
    },
    {
     "name": "stderr",
     "output_type": "stream",
     "text": [
      " 32%|███▏      | 219/676 [23:46<54:54,  7.21s/it]"
     ]
    },
    {
     "name": "stdout",
     "output_type": "stream",
     "text": [
      "[warn] Context very long (9973 chars). May cause truncation or timeout.\n"
     ]
    },
    {
     "name": "stderr",
     "output_type": "stream",
     "text": [
      " 33%|███▎      | 220/676 [23:52<52:03,  6.85s/it]"
     ]
    },
    {
     "name": "stdout",
     "output_type": "stream",
     "text": [
      "[warn] Context very long (9735 chars). May cause truncation or timeout.\n"
     ]
    },
    {
     "name": "stderr",
     "output_type": "stream",
     "text": [
      " 33%|███▎      | 221/676 [23:56<46:03,  6.07s/it]"
     ]
    },
    {
     "name": "stdout",
     "output_type": "stream",
     "text": [
      "[warn] Context very long (9716 chars). May cause truncation or timeout.\n"
     ]
    },
    {
     "name": "stderr",
     "output_type": "stream",
     "text": [
      " 33%|███▎      | 223/676 [24:06<40:14,  5.33s/it]"
     ]
    },
    {
     "name": "stdout",
     "output_type": "stream",
     "text": [
      "[warn] Context very long (10578 chars). May cause truncation or timeout.\n"
     ]
    },
    {
     "name": "stderr",
     "output_type": "stream",
     "text": [
      " 35%|███▍      | 234/676 [25:01<35:10,  4.78s/it]"
     ]
    },
    {
     "name": "stdout",
     "output_type": "stream",
     "text": [
      "[warn] Context very long (8813 chars). May cause truncation or timeout.\n"
     ]
    },
    {
     "name": "stderr",
     "output_type": "stream",
     "text": [
      " 35%|███▍      | 235/676 [25:17<59:44,  8.13s/it]"
     ]
    },
    {
     "name": "stdout",
     "output_type": "stream",
     "text": [
      "[warn] Context very long (8812 chars). May cause truncation or timeout.\n"
     ]
    },
    {
     "name": "stderr",
     "output_type": "stream",
     "text": [
      " 35%|███▍      | 236/676 [25:29<1:09:19,  9.45s/it]"
     ]
    },
    {
     "name": "stdout",
     "output_type": "stream",
     "text": [
      "[warn] Context very long (8173 chars). May cause truncation or timeout.\n"
     ]
    },
    {
     "name": "stderr",
     "output_type": "stream",
     "text": [
      " 35%|███▌      | 237/676 [25:37<1:05:22,  8.94s/it]"
     ]
    },
    {
     "name": "stdout",
     "output_type": "stream",
     "text": [
      "[warn] Context very long (8240 chars). May cause truncation or timeout.\n"
     ]
    },
    {
     "name": "stderr",
     "output_type": "stream",
     "text": [
      " 35%|███▌      | 238/676 [25:46<1:05:10,  8.93s/it]"
     ]
    },
    {
     "name": "stdout",
     "output_type": "stream",
     "text": [
      "[warn] Context very long (8914 chars). May cause truncation or timeout.\n"
     ]
    },
    {
     "name": "stderr",
     "output_type": "stream",
     "text": [
      " 36%|███▌      | 242/676 [26:13<48:53,  6.76s/it]  "
     ]
    },
    {
     "name": "stdout",
     "output_type": "stream",
     "text": [
      "[warn] Context very long (8409 chars). May cause truncation or timeout.\n"
     ]
    },
    {
     "name": "stderr",
     "output_type": "stream",
     "text": [
      " 37%|███▋      | 249/676 [27:04<49:24,  6.94s/it]"
     ]
    },
    {
     "name": "stdout",
     "output_type": "stream",
     "text": [
      "[warn] Context very long (8524 chars). May cause truncation or timeout.\n"
     ]
    },
    {
     "name": "stderr",
     "output_type": "stream",
     "text": [
      " 37%|███▋      | 251/676 [27:18<48:38,  6.87s/it]"
     ]
    },
    {
     "name": "stdout",
     "output_type": "stream",
     "text": [
      "[warn] Context very long (8188 chars). May cause truncation or timeout.\n"
     ]
    },
    {
     "name": "stderr",
     "output_type": "stream",
     "text": [
      " 37%|███▋      | 252/676 [27:25<49:01,  6.94s/it]"
     ]
    },
    {
     "name": "stdout",
     "output_type": "stream",
     "text": [
      "[warn] Context very long (9949 chars). May cause truncation or timeout.\n"
     ]
    },
    {
     "name": "stderr",
     "output_type": "stream",
     "text": [
      " 37%|███▋      | 253/676 [27:34<53:33,  7.60s/it]"
     ]
    },
    {
     "name": "stdout",
     "output_type": "stream",
     "text": [
      "[warn] Context very long (8619 chars). May cause truncation or timeout.\n"
     ]
    },
    {
     "name": "stderr",
     "output_type": "stream",
     "text": [
      " 38%|███▊      | 254/676 [27:40<49:40,  7.06s/it]"
     ]
    },
    {
     "name": "stdout",
     "output_type": "stream",
     "text": [
      "[warn] Context very long (10381 chars). May cause truncation or timeout.\n"
     ]
    },
    {
     "name": "stderr",
     "output_type": "stream",
     "text": [
      " 38%|███▊      | 255/676 [27:46<46:42,  6.66s/it]"
     ]
    },
    {
     "name": "stdout",
     "output_type": "stream",
     "text": [
      "[warn] Context very long (9949 chars). May cause truncation or timeout.\n"
     ]
    },
    {
     "name": "stderr",
     "output_type": "stream",
     "text": [
      " 38%|███▊      | 256/676 [27:58<58:06,  8.30s/it]"
     ]
    },
    {
     "name": "stdout",
     "output_type": "stream",
     "text": [
      "[warn] Context very long (8386 chars). May cause truncation or timeout.\n"
     ]
    },
    {
     "name": "stderr",
     "output_type": "stream",
     "text": [
      " 38%|███▊      | 257/676 [28:03<51:49,  7.42s/it]"
     ]
    },
    {
     "name": "stdout",
     "output_type": "stream",
     "text": [
      "[warn] Context very long (9204 chars). May cause truncation or timeout.\n"
     ]
    },
    {
     "name": "stderr",
     "output_type": "stream",
     "text": [
      " 38%|███▊      | 258/676 [28:16<1:02:44,  9.01s/it]"
     ]
    },
    {
     "name": "stdout",
     "output_type": "stream",
     "text": [
      "[warn] Context very long (10187 chars). May cause truncation or timeout.\n"
     ]
    },
    {
     "name": "stderr",
     "output_type": "stream",
     "text": [
      " 38%|███▊      | 259/676 [28:22<57:06,  8.22s/it]  "
     ]
    },
    {
     "name": "stdout",
     "output_type": "stream",
     "text": [
      "[warn] Context very long (8730 chars). May cause truncation or timeout.\n"
     ]
    },
    {
     "name": "stderr",
     "output_type": "stream",
     "text": [
      " 38%|███▊      | 260/676 [28:27<49:09,  7.09s/it]"
     ]
    },
    {
     "name": "stdout",
     "output_type": "stream",
     "text": [
      "[warn] Context very long (9877 chars). May cause truncation or timeout.\n"
     ]
    },
    {
     "name": "stderr",
     "output_type": "stream",
     "text": [
      " 39%|███▊      | 261/676 [28:43<1:07:31,  9.76s/it]"
     ]
    },
    {
     "name": "stdout",
     "output_type": "stream",
     "text": [
      "[warn] Context very long (10166 chars). May cause truncation or timeout.\n"
     ]
    },
    {
     "name": "stderr",
     "output_type": "stream",
     "text": [
      " 39%|███▉      | 262/676 [28:47<56:35,  8.20s/it]  "
     ]
    },
    {
     "name": "stdout",
     "output_type": "stream",
     "text": [
      "[warn] Context very long (11886 chars). May cause truncation or timeout.\n"
     ]
    },
    {
     "name": "stderr",
     "output_type": "stream",
     "text": [
      " 39%|███▉      | 263/676 [28:52<48:57,  7.11s/it]"
     ]
    },
    {
     "name": "stdout",
     "output_type": "stream",
     "text": [
      "[warn] Context very long (12754 chars). May cause truncation or timeout.\n"
     ]
    },
    {
     "name": "stderr",
     "output_type": "stream",
     "text": [
      " 39%|███▉      | 264/676 [28:59<49:19,  7.18s/it]"
     ]
    },
    {
     "name": "stdout",
     "output_type": "stream",
     "text": [
      "[warn] Context very long (11226 chars). May cause truncation or timeout.\n"
     ]
    },
    {
     "name": "stderr",
     "output_type": "stream",
     "text": [
      " 41%|████▏     | 280/676 [30:23<34:15,  5.19s/it]"
     ]
    },
    {
     "name": "stdout",
     "output_type": "stream",
     "text": [
      "[warn] Context very long (9900 chars). May cause truncation or timeout.\n"
     ]
    },
    {
     "name": "stderr",
     "output_type": "stream",
     "text": [
      " 42%|████▏     | 281/676 [30:29<36:24,  5.53s/it]"
     ]
    },
    {
     "name": "stdout",
     "output_type": "stream",
     "text": [
      "[warn] Context very long (11655 chars). May cause truncation or timeout.\n"
     ]
    },
    {
     "name": "stderr",
     "output_type": "stream",
     "text": [
      " 42%|████▏     | 282/676 [30:39<44:24,  6.76s/it]"
     ]
    },
    {
     "name": "stdout",
     "output_type": "stream",
     "text": [
      "[warn] Context very long (10570 chars). May cause truncation or timeout.\n"
     ]
    },
    {
     "name": "stderr",
     "output_type": "stream",
     "text": [
      " 42%|████▏     | 283/676 [30:44<40:56,  6.25s/it]"
     ]
    },
    {
     "name": "stdout",
     "output_type": "stream",
     "text": [
      "[warn] Context very long (8406 chars). May cause truncation or timeout.\n"
     ]
    },
    {
     "name": "stderr",
     "output_type": "stream",
     "text": [
      " 42%|████▏     | 284/676 [30:48<36:34,  5.60s/it]"
     ]
    },
    {
     "name": "stdout",
     "output_type": "stream",
     "text": [
      "[warn] Context very long (12134 chars). May cause truncation or timeout.\n"
     ]
    },
    {
     "name": "stderr",
     "output_type": "stream",
     "text": [
      " 42%|████▏     | 285/676 [30:59<45:56,  7.05s/it]"
     ]
    },
    {
     "name": "stdout",
     "output_type": "stream",
     "text": [
      "[warn] Context very long (9342 chars). May cause truncation or timeout.\n"
     ]
    },
    {
     "name": "stderr",
     "output_type": "stream",
     "text": [
      " 42%|████▏     | 286/676 [31:06<45:54,  7.06s/it]"
     ]
    },
    {
     "name": "stdout",
     "output_type": "stream",
     "text": [
      "[warn] Context very long (10166 chars). May cause truncation or timeout.\n"
     ]
    },
    {
     "name": "stderr",
     "output_type": "stream",
     "text": [
      " 42%|████▏     | 287/676 [31:12<44:05,  6.80s/it]"
     ]
    },
    {
     "name": "stdout",
     "output_type": "stream",
     "text": [
      "[warn] Context very long (10319 chars). May cause truncation or timeout.\n"
     ]
    },
    {
     "name": "stderr",
     "output_type": "stream",
     "text": [
      " 43%|████▎     | 288/676 [31:20<45:47,  7.08s/it]"
     ]
    },
    {
     "name": "stdout",
     "output_type": "stream",
     "text": [
      "[warn] Context very long (8040 chars). May cause truncation or timeout.\n"
     ]
    },
    {
     "name": "stderr",
     "output_type": "stream",
     "text": [
      " 43%|████▎     | 289/676 [31:30<51:37,  8.01s/it]"
     ]
    },
    {
     "name": "stdout",
     "output_type": "stream",
     "text": [
      "[warn] Context very long (8141 chars). May cause truncation or timeout.\n"
     ]
    },
    {
     "name": "stderr",
     "output_type": "stream",
     "text": [
      " 43%|████▎     | 290/676 [31:35<46:48,  7.28s/it]"
     ]
    },
    {
     "name": "stdout",
     "output_type": "stream",
     "text": [
      "[warn] Context very long (8488 chars). May cause truncation or timeout.\n"
     ]
    },
    {
     "name": "stderr",
     "output_type": "stream",
     "text": [
      " 43%|████▎     | 291/676 [31:45<50:35,  7.88s/it]"
     ]
    },
    {
     "name": "stdout",
     "output_type": "stream",
     "text": [
      "[warn] Context very long (9148 chars). May cause truncation or timeout.\n"
     ]
    },
    {
     "name": "stderr",
     "output_type": "stream",
     "text": [
      " 43%|████▎     | 292/676 [31:52<48:35,  7.59s/it]"
     ]
    },
    {
     "name": "stdout",
     "output_type": "stream",
     "text": [
      "[warn] Context very long (9491 chars). May cause truncation or timeout.\n"
     ]
    },
    {
     "name": "stderr",
     "output_type": "stream",
     "text": [
      " 43%|████▎     | 293/676 [31:57<43:52,  6.87s/it]"
     ]
    },
    {
     "name": "stdout",
     "output_type": "stream",
     "text": [
      "[warn] Context very long (8579 chars). May cause truncation or timeout.\n"
     ]
    },
    {
     "name": "stderr",
     "output_type": "stream",
     "text": [
      " 43%|████▎     | 294/676 [32:00<37:48,  5.94s/it]"
     ]
    },
    {
     "name": "stdout",
     "output_type": "stream",
     "text": [
      "[warn] Context very long (8551 chars). May cause truncation or timeout.\n"
     ]
    },
    {
     "name": "stderr",
     "output_type": "stream",
     "text": [
      " 45%|████▍     | 304/676 [33:15<44:34,  7.19s/it]"
     ]
    },
    {
     "name": "stdout",
     "output_type": "stream",
     "text": [
      "[warn] Context very long (10567 chars). May cause truncation or timeout.\n"
     ]
    },
    {
     "name": "stderr",
     "output_type": "stream",
     "text": [
      " 45%|████▌     | 305/676 [33:21<43:27,  7.03s/it]"
     ]
    },
    {
     "name": "stdout",
     "output_type": "stream",
     "text": [
      "[warn] Context very long (9318 chars). May cause truncation or timeout.\n"
     ]
    },
    {
     "name": "stderr",
     "output_type": "stream",
     "text": [
      " 45%|████▌     | 306/676 [33:26<38:29,  6.24s/it]"
     ]
    },
    {
     "name": "stdout",
     "output_type": "stream",
     "text": [
      "[warn] Context very long (9845 chars). May cause truncation or timeout.\n"
     ]
    },
    {
     "name": "stderr",
     "output_type": "stream",
     "text": [
      " 45%|████▌     | 307/676 [33:30<34:30,  5.61s/it]"
     ]
    },
    {
     "name": "stdout",
     "output_type": "stream",
     "text": [
      "[warn] Context very long (10201 chars). May cause truncation or timeout.\n"
     ]
    },
    {
     "name": "stderr",
     "output_type": "stream",
     "text": [
      " 46%|████▌     | 308/676 [33:36<36:07,  5.89s/it]"
     ]
    },
    {
     "name": "stdout",
     "output_type": "stream",
     "text": [
      "[warn] Context very long (10885 chars). May cause truncation or timeout.\n"
     ]
    },
    {
     "name": "stderr",
     "output_type": "stream",
     "text": [
      " 46%|████▌     | 309/676 [33:45<40:44,  6.66s/it]"
     ]
    },
    {
     "name": "stdout",
     "output_type": "stream",
     "text": [
      "[warn] Context very long (9513 chars). May cause truncation or timeout.\n"
     ]
    },
    {
     "name": "stderr",
     "output_type": "stream",
     "text": [
      " 46%|████▌     | 310/676 [33:55<47:05,  7.72s/it]"
     ]
    },
    {
     "name": "stdout",
     "output_type": "stream",
     "text": [
      "[warn] Context very long (10048 chars). May cause truncation or timeout.\n"
     ]
    },
    {
     "name": "stderr",
     "output_type": "stream",
     "text": [
      " 46%|████▌     | 311/676 [33:58<38:50,  6.38s/it]"
     ]
    },
    {
     "name": "stdout",
     "output_type": "stream",
     "text": [
      "[warn] Context very long (10231 chars). May cause truncation or timeout.\n"
     ]
    },
    {
     "name": "stderr",
     "output_type": "stream",
     "text": [
      " 46%|████▌     | 312/676 [34:04<38:21,  6.32s/it]"
     ]
    },
    {
     "name": "stdout",
     "output_type": "stream",
     "text": [
      "[warn] Context very long (10437 chars). May cause truncation or timeout.\n"
     ]
    },
    {
     "name": "stderr",
     "output_type": "stream",
     "text": [
      " 51%|█████     | 344/676 [37:01<35:43,  6.46s/it]"
     ]
    },
    {
     "name": "stdout",
     "output_type": "stream",
     "text": [
      "[warn] Context very long (9863 chars). May cause truncation or timeout.\n"
     ]
    },
    {
     "name": "stderr",
     "output_type": "stream",
     "text": [
      " 51%|█████     | 345/676 [37:10<39:30,  7.16s/it]"
     ]
    },
    {
     "name": "stdout",
     "output_type": "stream",
     "text": [
      "[warn] Context very long (9738 chars). May cause truncation or timeout.\n"
     ]
    },
    {
     "name": "stderr",
     "output_type": "stream",
     "text": [
      " 51%|█████     | 346/676 [37:22<47:24,  8.62s/it]"
     ]
    },
    {
     "name": "stdout",
     "output_type": "stream",
     "text": [
      "[warn] Context very long (10183 chars). May cause truncation or timeout.\n"
     ]
    },
    {
     "name": "stderr",
     "output_type": "stream",
     "text": [
      " 51%|█████▏    | 348/676 [37:32<36:27,  6.67s/it]"
     ]
    },
    {
     "name": "stdout",
     "output_type": "stream",
     "text": [
      "[warn] Context very long (10335 chars). May cause truncation or timeout.\n"
     ]
    },
    {
     "name": "stderr",
     "output_type": "stream",
     "text": [
      " 54%|█████▍    | 365/676 [38:53<21:49,  4.21s/it]"
     ]
    },
    {
     "name": "stdout",
     "output_type": "stream",
     "text": [
      "[warn] Context very long (10523 chars). May cause truncation or timeout.\n"
     ]
    },
    {
     "name": "stderr",
     "output_type": "stream",
     "text": [
      " 54%|█████▍    | 366/676 [38:58<23:02,  4.46s/it]"
     ]
    },
    {
     "name": "stdout",
     "output_type": "stream",
     "text": [
      "[warn] Context very long (11059 chars). May cause truncation or timeout.\n"
     ]
    },
    {
     "name": "stderr",
     "output_type": "stream",
     "text": [
      " 54%|█████▍    | 367/676 [39:03<24:08,  4.69s/it]"
     ]
    },
    {
     "name": "stdout",
     "output_type": "stream",
     "text": [
      "[warn] Context very long (10142 chars). May cause truncation or timeout.\n"
     ]
    },
    {
     "name": "stderr",
     "output_type": "stream",
     "text": [
      " 54%|█████▍    | 368/676 [39:11<29:27,  5.74s/it]"
     ]
    },
    {
     "name": "stdout",
     "output_type": "stream",
     "text": [
      "[warn] Context very long (8556 chars). May cause truncation or timeout.\n"
     ]
    },
    {
     "name": "stderr",
     "output_type": "stream",
     "text": [
      " 55%|█████▍    | 369/676 [39:16<27:35,  5.39s/it]"
     ]
    },
    {
     "name": "stdout",
     "output_type": "stream",
     "text": [
      "[warn] Context very long (8214 chars). May cause truncation or timeout.\n"
     ]
    },
    {
     "name": "stderr",
     "output_type": "stream",
     "text": [
      " 55%|█████▍    | 370/676 [39:23<30:21,  5.95s/it]"
     ]
    },
    {
     "name": "stdout",
     "output_type": "stream",
     "text": [
      "[warn] Context very long (10941 chars). May cause truncation or timeout.\n"
     ]
    },
    {
     "name": "stderr",
     "output_type": "stream",
     "text": [
      " 55%|█████▍    | 371/676 [39:29<29:24,  5.79s/it]"
     ]
    },
    {
     "name": "stdout",
     "output_type": "stream",
     "text": [
      "[warn] Context very long (9674 chars). May cause truncation or timeout.\n"
     ]
    },
    {
     "name": "stderr",
     "output_type": "stream",
     "text": [
      " 55%|█████▌    | 372/676 [39:38<34:46,  6.86s/it]"
     ]
    },
    {
     "name": "stdout",
     "output_type": "stream",
     "text": [
      "[warn] Context very long (9229 chars). May cause truncation or timeout.\n"
     ]
    },
    {
     "name": "stderr",
     "output_type": "stream",
     "text": [
      " 55%|█████▌    | 373/676 [39:47<37:59,  7.52s/it]"
     ]
    },
    {
     "name": "stdout",
     "output_type": "stream",
     "text": [
      "[warn] Context very long (9813 chars). May cause truncation or timeout.\n"
     ]
    },
    {
     "name": "stderr",
     "output_type": "stream",
     "text": [
      " 55%|█████▌    | 374/676 [39:53<35:30,  7.06s/it]"
     ]
    },
    {
     "name": "stdout",
     "output_type": "stream",
     "text": [
      "[warn] Context very long (10127 chars). May cause truncation or timeout.\n"
     ]
    },
    {
     "name": "stderr",
     "output_type": "stream",
     "text": [
      " 55%|█████▌    | 375/676 [40:00<34:45,  6.93s/it]"
     ]
    },
    {
     "name": "stdout",
     "output_type": "stream",
     "text": [
      "[warn] Context very long (10049 chars). May cause truncation or timeout.\n"
     ]
    },
    {
     "name": "stderr",
     "output_type": "stream",
     "text": [
      " 56%|█████▌    | 376/676 [40:06<33:28,  6.69s/it]"
     ]
    },
    {
     "name": "stdout",
     "output_type": "stream",
     "text": [
      "[warn] Context very long (9720 chars). May cause truncation or timeout.\n"
     ]
    },
    {
     "name": "stderr",
     "output_type": "stream",
     "text": [
      " 56%|█████▌    | 377/676 [40:12<32:28,  6.52s/it]"
     ]
    },
    {
     "name": "stdout",
     "output_type": "stream",
     "text": [
      "[warn] Context very long (9983 chars). May cause truncation or timeout.\n"
     ]
    },
    {
     "name": "stderr",
     "output_type": "stream",
     "text": [
      " 56%|█████▌    | 378/676 [40:15<27:15,  5.49s/it]"
     ]
    },
    {
     "name": "stdout",
     "output_type": "stream",
     "text": [
      "[warn] Context very long (9017 chars). May cause truncation or timeout.\n"
     ]
    },
    {
     "name": "stderr",
     "output_type": "stream",
     "text": [
      " 56%|█████▌    | 379/676 [40:19<24:55,  5.03s/it]"
     ]
    },
    {
     "name": "stdout",
     "output_type": "stream",
     "text": [
      "[warn] Context very long (9781 chars). May cause truncation or timeout.\n"
     ]
    },
    {
     "name": "stderr",
     "output_type": "stream",
     "text": [
      " 56%|█████▌    | 380/676 [40:28<30:10,  6.12s/it]"
     ]
    },
    {
     "name": "stdout",
     "output_type": "stream",
     "text": [
      "[warn] Context very long (9501 chars). May cause truncation or timeout.\n"
     ]
    },
    {
     "name": "stderr",
     "output_type": "stream",
     "text": [
      " 56%|█████▋    | 381/676 [40:44<44:21,  9.02s/it]"
     ]
    },
    {
     "name": "stdout",
     "output_type": "stream",
     "text": [
      "[warn] Context very long (9446 chars). May cause truncation or timeout.\n"
     ]
    },
    {
     "name": "stderr",
     "output_type": "stream",
     "text": [
      " 57%|█████▋    | 382/676 [40:49<39:04,  7.97s/it]"
     ]
    },
    {
     "name": "stdout",
     "output_type": "stream",
     "text": [
      "[warn] Context very long (10748 chars). May cause truncation or timeout.\n"
     ]
    },
    {
     "name": "stderr",
     "output_type": "stream",
     "text": [
      " 57%|█████▋    | 383/676 [40:55<35:30,  7.27s/it]"
     ]
    },
    {
     "name": "stdout",
     "output_type": "stream",
     "text": [
      "[warn] Context very long (10251 chars). May cause truncation or timeout.\n"
     ]
    },
    {
     "name": "stderr",
     "output_type": "stream",
     "text": [
      " 57%|█████▋    | 384/676 [41:05<39:27,  8.11s/it]"
     ]
    },
    {
     "name": "stdout",
     "output_type": "stream",
     "text": [
      "[warn] Context very long (8837 chars). May cause truncation or timeout.\n"
     ]
    },
    {
     "name": "stderr",
     "output_type": "stream",
     "text": [
      " 57%|█████▋    | 385/676 [41:16<44:32,  9.19s/it]"
     ]
    },
    {
     "name": "stdout",
     "output_type": "stream",
     "text": [
      "[warn] Context very long (10027 chars). May cause truncation or timeout.\n"
     ]
    },
    {
     "name": "stderr",
     "output_type": "stream",
     "text": [
      " 57%|█████▋    | 387/676 [41:24<31:17,  6.50s/it]"
     ]
    },
    {
     "name": "stdout",
     "output_type": "stream",
     "text": [
      "[warn] Context very long (9832 chars). May cause truncation or timeout.\n"
     ]
    },
    {
     "name": "stderr",
     "output_type": "stream",
     "text": [
      " 57%|█████▋    | 388/676 [41:31<31:26,  6.55s/it]"
     ]
    },
    {
     "name": "stdout",
     "output_type": "stream",
     "text": [
      "[warn] Context very long (10109 chars). May cause truncation or timeout.\n"
     ]
    },
    {
     "name": "stderr",
     "output_type": "stream",
     "text": [
      " 58%|█████▊    | 389/676 [41:38<31:46,  6.64s/it]"
     ]
    },
    {
     "name": "stdout",
     "output_type": "stream",
     "text": [
      "[warn] Context very long (9133 chars). May cause truncation or timeout.\n"
     ]
    },
    {
     "name": "stderr",
     "output_type": "stream",
     "text": [
      " 58%|█████▊    | 391/676 [42:00<42:28,  8.94s/it]"
     ]
    },
    {
     "name": "stdout",
     "output_type": "stream",
     "text": [
      "[warn] Context very long (8163 chars). May cause truncation or timeout.\n"
     ]
    },
    {
     "name": "stderr",
     "output_type": "stream",
     "text": [
      " 58%|█████▊    | 392/676 [42:14<49:36, 10.48s/it]"
     ]
    },
    {
     "name": "stdout",
     "output_type": "stream",
     "text": [
      "[warn] Context very long (8480 chars). May cause truncation or timeout.\n"
     ]
    },
    {
     "name": "stderr",
     "output_type": "stream",
     "text": [
      " 58%|█████▊    | 394/676 [42:35<49:42, 10.58s/it]"
     ]
    },
    {
     "name": "stdout",
     "output_type": "stream",
     "text": [
      "[warn] Context very long (8486 chars). May cause truncation or timeout.\n"
     ]
    },
    {
     "name": "stderr",
     "output_type": "stream",
     "text": [
      " 59%|█████▊    | 396/676 [42:54<48:30, 10.39s/it]"
     ]
    },
    {
     "name": "stdout",
     "output_type": "stream",
     "text": [
      "[warn] Context very long (9755 chars). May cause truncation or timeout.\n"
     ]
    },
    {
     "name": "stderr",
     "output_type": "stream",
     "text": [
      " 59%|█████▊    | 397/676 [43:03<46:49, 10.07s/it]"
     ]
    },
    {
     "name": "stdout",
     "output_type": "stream",
     "text": [
      "[warn] Context very long (10573 chars). May cause truncation or timeout.\n"
     ]
    },
    {
     "name": "stderr",
     "output_type": "stream",
     "text": [
      " 59%|█████▉    | 398/676 [43:13<46:04,  9.95s/it]"
     ]
    },
    {
     "name": "stdout",
     "output_type": "stream",
     "text": [
      "[warn] Context very long (10032 chars). May cause truncation or timeout.\n"
     ]
    },
    {
     "name": "stderr",
     "output_type": "stream",
     "text": [
      " 59%|█████▉    | 399/676 [43:20<41:45,  9.04s/it]"
     ]
    },
    {
     "name": "stdout",
     "output_type": "stream",
     "text": [
      "[warn] Context very long (9703 chars). May cause truncation or timeout.\n"
     ]
    },
    {
     "name": "stderr",
     "output_type": "stream",
     "text": [
      " 59%|█████▉    | 400/676 [43:31<45:25,  9.88s/it]"
     ]
    },
    {
     "name": "stdout",
     "output_type": "stream",
     "text": [
      "[warn] Context very long (9703 chars). May cause truncation or timeout.\n"
     ]
    },
    {
     "name": "stderr",
     "output_type": "stream",
     "text": [
      " 59%|█████▉    | 401/676 [43:36<38:02,  8.30s/it]"
     ]
    },
    {
     "name": "stdout",
     "output_type": "stream",
     "text": [
      "[warn] Context very long (9253 chars). May cause truncation or timeout.\n"
     ]
    },
    {
     "name": "stderr",
     "output_type": "stream",
     "text": [
      " 59%|█████▉    | 402/676 [43:39<30:47,  6.74s/it]"
     ]
    },
    {
     "name": "stdout",
     "output_type": "stream",
     "text": [
      "[warn] Context very long (9253 chars). May cause truncation or timeout.\n"
     ]
    },
    {
     "name": "stderr",
     "output_type": "stream",
     "text": [
      " 60%|█████▉    | 403/676 [43:45<29:49,  6.56s/it]"
     ]
    },
    {
     "name": "stdout",
     "output_type": "stream",
     "text": [
      "[warn] Context very long (9253 chars). May cause truncation or timeout.\n"
     ]
    },
    {
     "name": "stderr",
     "output_type": "stream",
     "text": [
      " 60%|█████▉    | 404/676 [43:49<25:45,  5.68s/it]"
     ]
    },
    {
     "name": "stdout",
     "output_type": "stream",
     "text": [
      "[warn] Context very long (9253 chars). May cause truncation or timeout.\n"
     ]
    },
    {
     "name": "stderr",
     "output_type": "stream",
     "text": [
      " 60%|█████▉    | 405/676 [43:53<23:41,  5.25s/it]"
     ]
    },
    {
     "name": "stdout",
     "output_type": "stream",
     "text": [
      "[warn] Context very long (9253 chars). May cause truncation or timeout.\n"
     ]
    },
    {
     "name": "stderr",
     "output_type": "stream",
     "text": [
      " 61%|██████▏   | 415/676 [44:45<24:20,  5.60s/it]"
     ]
    },
    {
     "name": "stdout",
     "output_type": "stream",
     "text": [
      "[warn] Context very long (10012 chars). May cause truncation or timeout.\n"
     ]
    },
    {
     "name": "stderr",
     "output_type": "stream",
     "text": [
      " 62%|██████▏   | 416/676 [44:50<23:53,  5.51s/it]"
     ]
    },
    {
     "name": "stdout",
     "output_type": "stream",
     "text": [
      "[warn] Context very long (8724 chars). May cause truncation or timeout.\n"
     ]
    },
    {
     "name": "stderr",
     "output_type": "stream",
     "text": [
      " 62%|██████▏   | 417/676 [44:55<23:00,  5.33s/it]"
     ]
    },
    {
     "name": "stdout",
     "output_type": "stream",
     "text": [
      "[warn] Context very long (9068 chars). May cause truncation or timeout.\n"
     ]
    },
    {
     "name": "stderr",
     "output_type": "stream",
     "text": [
      " 62%|██████▏   | 418/676 [45:03<25:44,  5.98s/it]"
     ]
    },
    {
     "name": "stdout",
     "output_type": "stream",
     "text": [
      "[warn] Context very long (8593 chars). May cause truncation or timeout.\n"
     ]
    },
    {
     "name": "stderr",
     "output_type": "stream",
     "text": [
      " 62%|██████▏   | 419/676 [45:10<27:13,  6.36s/it]"
     ]
    },
    {
     "name": "stdout",
     "output_type": "stream",
     "text": [
      "[warn] Context very long (8749 chars). May cause truncation or timeout.\n"
     ]
    },
    {
     "name": "stderr",
     "output_type": "stream",
     "text": [
      " 62%|██████▏   | 420/676 [45:15<24:37,  5.77s/it]"
     ]
    },
    {
     "name": "stdout",
     "output_type": "stream",
     "text": [
      "[warn] Context very long (9077 chars). May cause truncation or timeout.\n"
     ]
    },
    {
     "name": "stderr",
     "output_type": "stream",
     "text": [
      " 64%|██████▍   | 431/676 [46:26<22:14,  5.45s/it]"
     ]
    },
    {
     "name": "stdout",
     "output_type": "stream",
     "text": [
      "[warn] Context very long (8226 chars). May cause truncation or timeout.\n"
     ]
    },
    {
     "name": "stderr",
     "output_type": "stream",
     "text": [
      " 64%|██████▍   | 432/676 [46:32<22:51,  5.62s/it]"
     ]
    },
    {
     "name": "stdout",
     "output_type": "stream",
     "text": [
      "[warn] Context very long (9336 chars). May cause truncation or timeout.\n"
     ]
    },
    {
     "name": "stderr",
     "output_type": "stream",
     "text": [
      " 64%|██████▍   | 433/676 [46:39<23:43,  5.86s/it]"
     ]
    },
    {
     "name": "stdout",
     "output_type": "stream",
     "text": [
      "[warn] Context very long (9363 chars). May cause truncation or timeout.\n"
     ]
    },
    {
     "name": "stderr",
     "output_type": "stream",
     "text": [
      " 64%|██████▍   | 434/676 [46:50<30:42,  7.61s/it]"
     ]
    },
    {
     "name": "stdout",
     "output_type": "stream",
     "text": [
      "[warn] Context very long (9488 chars). May cause truncation or timeout.\n"
     ]
    },
    {
     "name": "stderr",
     "output_type": "stream",
     "text": [
      " 64%|██████▍   | 435/676 [46:55<26:19,  6.56s/it]"
     ]
    },
    {
     "name": "stdout",
     "output_type": "stream",
     "text": [
      "[warn] Context very long (8519 chars). May cause truncation or timeout.\n"
     ]
    },
    {
     "name": "stderr",
     "output_type": "stream",
     "text": [
      " 65%|██████▍   | 437/676 [47:02<20:24,  5.12s/it]"
     ]
    },
    {
     "name": "stdout",
     "output_type": "stream",
     "text": [
      "[warn] Context very long (8533 chars). May cause truncation or timeout.\n"
     ]
    },
    {
     "name": "stderr",
     "output_type": "stream",
     "text": [
      " 65%|██████▍   | 438/676 [47:07<20:22,  5.14s/it]"
     ]
    },
    {
     "name": "stdout",
     "output_type": "stream",
     "text": [
      "[warn] Context very long (11248 chars). May cause truncation or timeout.\n"
     ]
    },
    {
     "name": "stderr",
     "output_type": "stream",
     "text": [
      " 66%|██████▌   | 444/676 [47:35<16:06,  4.17s/it]"
     ]
    },
    {
     "name": "stdout",
     "output_type": "stream",
     "text": [
      "[warn] Context very long (10161 chars). May cause truncation or timeout.\n"
     ]
    },
    {
     "name": "stderr",
     "output_type": "stream",
     "text": [
      " 66%|██████▌   | 445/676 [47:39<16:33,  4.30s/it]"
     ]
    },
    {
     "name": "stdout",
     "output_type": "stream",
     "text": [
      "[warn] Context very long (9753 chars). May cause truncation or timeout.\n"
     ]
    },
    {
     "name": "stderr",
     "output_type": "stream",
     "text": [
      " 66%|██████▌   | 446/676 [47:43<15:56,  4.16s/it]"
     ]
    },
    {
     "name": "stdout",
     "output_type": "stream",
     "text": [
      "[warn] Context very long (9870 chars). May cause truncation or timeout.\n"
     ]
    },
    {
     "name": "stderr",
     "output_type": "stream",
     "text": [
      " 66%|██████▌   | 447/676 [47:48<16:59,  4.45s/it]"
     ]
    },
    {
     "name": "stdout",
     "output_type": "stream",
     "text": [
      "[warn] Context very long (8722 chars). May cause truncation or timeout.\n"
     ]
    },
    {
     "name": "stderr",
     "output_type": "stream",
     "text": [
      " 66%|██████▋   | 448/676 [47:55<19:33,  5.14s/it]"
     ]
    },
    {
     "name": "stdout",
     "output_type": "stream",
     "text": [
      "[warn] Context very long (11017 chars). May cause truncation or timeout.\n"
     ]
    },
    {
     "name": "stderr",
     "output_type": "stream",
     "text": [
      " 66%|██████▋   | 449/676 [48:00<19:55,  5.27s/it]"
     ]
    },
    {
     "name": "stdout",
     "output_type": "stream",
     "text": [
      "[warn] Context very long (10643 chars). May cause truncation or timeout.\n"
     ]
    },
    {
     "name": "stderr",
     "output_type": "stream",
     "text": [
      " 69%|██████▉   | 465/676 [49:15<14:56,  4.25s/it]"
     ]
    },
    {
     "name": "stdout",
     "output_type": "stream",
     "text": [
      "[warn] Context very long (8169 chars). May cause truncation or timeout.\n"
     ]
    },
    {
     "name": "stderr",
     "output_type": "stream",
     "text": [
      " 69%|██████▉   | 466/676 [49:26<22:21,  6.39s/it]"
     ]
    },
    {
     "name": "stdout",
     "output_type": "stream",
     "text": [
      "[warn] Context very long (9804 chars). May cause truncation or timeout.\n"
     ]
    },
    {
     "name": "stderr",
     "output_type": "stream",
     "text": [
      " 69%|██████▉   | 467/676 [49:32<22:23,  6.43s/it]"
     ]
    },
    {
     "name": "stdout",
     "output_type": "stream",
     "text": [
      "[warn] Context very long (10682 chars). May cause truncation or timeout.\n"
     ]
    },
    {
     "name": "stderr",
     "output_type": "stream",
     "text": [
      " 69%|██████▉   | 468/676 [49:46<29:41,  8.56s/it]"
     ]
    },
    {
     "name": "stdout",
     "output_type": "stream",
     "text": [
      "[warn] Context very long (9682 chars). May cause truncation or timeout.\n"
     ]
    },
    {
     "name": "stderr",
     "output_type": "stream",
     "text": [
      " 69%|██████▉   | 469/676 [49:54<28:41,  8.32s/it]"
     ]
    },
    {
     "name": "stdout",
     "output_type": "stream",
     "text": [
      "[warn] Context very long (10518 chars). May cause truncation or timeout.\n"
     ]
    },
    {
     "name": "stderr",
     "output_type": "stream",
     "text": [
      " 70%|██████▉   | 470/676 [50:02<27:59,  8.15s/it]"
     ]
    },
    {
     "name": "stdout",
     "output_type": "stream",
     "text": [
      "[warn] Context very long (10041 chars). May cause truncation or timeout.\n"
     ]
    },
    {
     "name": "stderr",
     "output_type": "stream",
     "text": [
      " 70%|██████▉   | 471/676 [50:07<24:55,  7.30s/it]"
     ]
    },
    {
     "name": "stdout",
     "output_type": "stream",
     "text": [
      "[warn] Context very long (9013 chars). May cause truncation or timeout.\n"
     ]
    },
    {
     "name": "stderr",
     "output_type": "stream",
     "text": [
      " 70%|██████▉   | 472/676 [50:10<20:56,  6.16s/it]"
     ]
    },
    {
     "name": "stdout",
     "output_type": "stream",
     "text": [
      "[warn] Context very long (9759 chars). May cause truncation or timeout.\n"
     ]
    },
    {
     "name": "stderr",
     "output_type": "stream",
     "text": [
      " 70%|██████▉   | 473/676 [50:14<18:10,  5.37s/it]"
     ]
    },
    {
     "name": "stdout",
     "output_type": "stream",
     "text": [
      "[warn] Context very long (10767 chars). May cause truncation or timeout.\n"
     ]
    },
    {
     "name": "stderr",
     "output_type": "stream",
     "text": [
      " 70%|███████   | 474/676 [50:19<17:48,  5.29s/it]"
     ]
    },
    {
     "name": "stdout",
     "output_type": "stream",
     "text": [
      "[warn] Context very long (10660 chars). May cause truncation or timeout.\n"
     ]
    },
    {
     "name": "stderr",
     "output_type": "stream",
     "text": [
      " 70%|███████   | 475/676 [50:31<24:31,  7.32s/it]"
     ]
    },
    {
     "name": "stdout",
     "output_type": "stream",
     "text": [
      "[warn] Context very long (10210 chars). May cause truncation or timeout.\n"
     ]
    },
    {
     "name": "stderr",
     "output_type": "stream",
     "text": [
      " 70%|███████   | 476/676 [50:35<21:22,  6.41s/it]"
     ]
    },
    {
     "name": "stdout",
     "output_type": "stream",
     "text": [
      "[warn] Context very long (10644 chars). May cause truncation or timeout.\n"
     ]
    },
    {
     "name": "stderr",
     "output_type": "stream",
     "text": [
      " 71%|███████   | 477/676 [50:40<19:36,  5.91s/it]"
     ]
    },
    {
     "name": "stdout",
     "output_type": "stream",
     "text": [
      "[warn] Context very long (9839 chars). May cause truncation or timeout.\n"
     ]
    },
    {
     "name": "stderr",
     "output_type": "stream",
     "text": [
      " 71%|███████   | 478/676 [50:48<21:12,  6.43s/it]"
     ]
    },
    {
     "name": "stdout",
     "output_type": "stream",
     "text": [
      "[warn] Context very long (10660 chars). May cause truncation or timeout.\n"
     ]
    },
    {
     "name": "stderr",
     "output_type": "stream",
     "text": [
      " 71%|███████   | 479/676 [50:55<21:47,  6.64s/it]"
     ]
    },
    {
     "name": "stdout",
     "output_type": "stream",
     "text": [
      "[warn] Context very long (10373 chars). May cause truncation or timeout.\n"
     ]
    },
    {
     "name": "stderr",
     "output_type": "stream",
     "text": [
      " 71%|███████   | 480/676 [51:00<19:53,  6.09s/it]"
     ]
    },
    {
     "name": "stdout",
     "output_type": "stream",
     "text": [
      "[warn] Context very long (10875 chars). May cause truncation or timeout.\n"
     ]
    },
    {
     "name": "stderr",
     "output_type": "stream",
     "text": [
      " 72%|███████▏  | 489/676 [51:51<15:07,  4.85s/it]"
     ]
    },
    {
     "name": "stdout",
     "output_type": "stream",
     "text": [
      "[warn] Context very long (10538 chars). May cause truncation or timeout.\n"
     ]
    },
    {
     "name": "stderr",
     "output_type": "stream",
     "text": [
      " 72%|███████▏  | 490/676 [51:55<14:40,  4.73s/it]"
     ]
    },
    {
     "name": "stdout",
     "output_type": "stream",
     "text": [
      "[warn] Context very long (10538 chars). May cause truncation or timeout.\n"
     ]
    },
    {
     "name": "stderr",
     "output_type": "stream",
     "text": [
      " 73%|███████▎  | 491/676 [52:01<15:33,  5.05s/it]"
     ]
    },
    {
     "name": "stdout",
     "output_type": "stream",
     "text": [
      "[warn] Context very long (10371 chars). May cause truncation or timeout.\n"
     ]
    },
    {
     "name": "stderr",
     "output_type": "stream",
     "text": [
      " 73%|███████▎  | 492/676 [52:06<15:25,  5.03s/it]"
     ]
    },
    {
     "name": "stdout",
     "output_type": "stream",
     "text": [
      "[warn] Context very long (10379 chars). May cause truncation or timeout.\n"
     ]
    },
    {
     "name": "stderr",
     "output_type": "stream",
     "text": [
      " 73%|███████▎  | 493/676 [52:18<21:34,  7.07s/it]"
     ]
    },
    {
     "name": "stdout",
     "output_type": "stream",
     "text": [
      "[warn] Context very long (10567 chars). May cause truncation or timeout.\n"
     ]
    },
    {
     "name": "stderr",
     "output_type": "stream",
     "text": [
      " 73%|███████▎  | 494/676 [52:25<21:16,  7.02s/it]"
     ]
    },
    {
     "name": "stdout",
     "output_type": "stream",
     "text": [
      "[warn] Context very long (10106 chars). May cause truncation or timeout.\n"
     ]
    },
    {
     "name": "stderr",
     "output_type": "stream",
     "text": [
      " 73%|███████▎  | 496/676 [52:36<18:28,  6.16s/it]"
     ]
    },
    {
     "name": "stdout",
     "output_type": "stream",
     "text": [
      "[warn] Context very long (9811 chars). May cause truncation or timeout.\n"
     ]
    },
    {
     "name": "stderr",
     "output_type": "stream",
     "text": [
      " 74%|███████▎  | 497/676 [52:46<21:57,  7.36s/it]"
     ]
    },
    {
     "name": "stdout",
     "output_type": "stream",
     "text": [
      "[warn] Context very long (9960 chars). May cause truncation or timeout.\n"
     ]
    },
    {
     "name": "stderr",
     "output_type": "stream",
     "text": [
      " 74%|███████▎  | 498/676 [52:53<21:18,  7.18s/it]"
     ]
    },
    {
     "name": "stdout",
     "output_type": "stream",
     "text": [
      "[warn] Context very long (8966 chars). May cause truncation or timeout.\n"
     ]
    },
    {
     "name": "stderr",
     "output_type": "stream",
     "text": [
      " 74%|███████▍  | 499/676 [53:00<21:26,  7.27s/it]"
     ]
    },
    {
     "name": "stdout",
     "output_type": "stream",
     "text": [
      "[warn] Context very long (9433 chars). May cause truncation or timeout.\n"
     ]
    },
    {
     "name": "stderr",
     "output_type": "stream",
     "text": [
      " 74%|███████▍  | 500/676 [53:07<20:37,  7.03s/it]"
     ]
    },
    {
     "name": "stdout",
     "output_type": "stream",
     "text": [
      "[warn] Context very long (8413 chars). May cause truncation or timeout.\n"
     ]
    },
    {
     "name": "stderr",
     "output_type": "stream",
     "text": [
      " 74%|███████▍  | 501/676 [53:11<18:02,  6.19s/it]"
     ]
    },
    {
     "name": "stdout",
     "output_type": "stream",
     "text": [
      "[warn] Context very long (9566 chars). May cause truncation or timeout.\n"
     ]
    },
    {
     "name": "stderr",
     "output_type": "stream",
     "text": [
      " 79%|███████▉  | 537/676 [56:59<12:58,  5.60s/it]"
     ]
    },
    {
     "name": "stdout",
     "output_type": "stream",
     "text": [
      "[warn] Context very long (10455 chars). May cause truncation or timeout.\n"
     ]
    },
    {
     "name": "stderr",
     "output_type": "stream",
     "text": [
      " 80%|███████▉  | 538/676 [57:03<12:20,  5.36s/it]"
     ]
    },
    {
     "name": "stdout",
     "output_type": "stream",
     "text": [
      "[warn] Context very long (10428 chars). May cause truncation or timeout.\n"
     ]
    },
    {
     "name": "stderr",
     "output_type": "stream",
     "text": [
      " 80%|███████▉  | 539/676 [57:11<13:53,  6.09s/it]"
     ]
    },
    {
     "name": "stdout",
     "output_type": "stream",
     "text": [
      "[warn] Context very long (10113 chars). May cause truncation or timeout.\n"
     ]
    },
    {
     "name": "stderr",
     "output_type": "stream",
     "text": [
      " 80%|███████▉  | 540/676 [57:21<16:22,  7.23s/it]"
     ]
    },
    {
     "name": "stdout",
     "output_type": "stream",
     "text": [
      "[warn] Context very long (10011 chars). May cause truncation or timeout.\n"
     ]
    },
    {
     "name": "stderr",
     "output_type": "stream",
     "text": [
      " 80%|████████  | 541/676 [57:27<15:33,  6.91s/it]"
     ]
    },
    {
     "name": "stdout",
     "output_type": "stream",
     "text": [
      "[warn] Context very long (9440 chars). May cause truncation or timeout.\n"
     ]
    },
    {
     "name": "stderr",
     "output_type": "stream",
     "text": [
      " 80%|████████  | 542/676 [57:35<15:49,  7.09s/it]"
     ]
    },
    {
     "name": "stdout",
     "output_type": "stream",
     "text": [
      "[warn] Context very long (8596 chars). May cause truncation or timeout.\n"
     ]
    },
    {
     "name": "stderr",
     "output_type": "stream",
     "text": [
      " 80%|████████  | 543/676 [57:46<18:42,  8.44s/it]"
     ]
    },
    {
     "name": "stdout",
     "output_type": "stream",
     "text": [
      "[warn] Context very long (9431 chars). May cause truncation or timeout.\n"
     ]
    },
    {
     "name": "stderr",
     "output_type": "stream",
     "text": [
      " 80%|████████  | 544/676 [57:52<16:52,  7.67s/it]"
     ]
    },
    {
     "name": "stdout",
     "output_type": "stream",
     "text": [
      "[warn] Context very long (9831 chars). May cause truncation or timeout.\n"
     ]
    },
    {
     "name": "stderr",
     "output_type": "stream",
     "text": [
      " 81%|████████  | 545/676 [57:59<16:19,  7.48s/it]"
     ]
    },
    {
     "name": "stdout",
     "output_type": "stream",
     "text": [
      "[warn] Context very long (11083 chars). May cause truncation or timeout.\n"
     ]
    },
    {
     "name": "stderr",
     "output_type": "stream",
     "text": [
      " 81%|████████  | 546/676 [58:04<14:14,  6.58s/it]"
     ]
    },
    {
     "name": "stdout",
     "output_type": "stream",
     "text": [
      "[warn] Context very long (11245 chars). May cause truncation or timeout.\n"
     ]
    },
    {
     "name": "stderr",
     "output_type": "stream",
     "text": [
      " 81%|████████  | 547/676 [58:12<15:27,  7.19s/it]"
     ]
    },
    {
     "name": "stdout",
     "output_type": "stream",
     "text": [
      "[warn] Context very long (11573 chars). May cause truncation or timeout.\n"
     ]
    },
    {
     "name": "stderr",
     "output_type": "stream",
     "text": [
      " 81%|████████  | 548/676 [58:15<12:22,  5.80s/it]"
     ]
    },
    {
     "name": "stdout",
     "output_type": "stream",
     "text": [
      "[warn] Context very long (11573 chars). May cause truncation or timeout.\n"
     ]
    },
    {
     "name": "stderr",
     "output_type": "stream",
     "text": [
      " 81%|████████  | 549/676 [58:23<13:43,  6.49s/it]"
     ]
    },
    {
     "name": "stdout",
     "output_type": "stream",
     "text": [
      "[warn] Context very long (10436 chars). May cause truncation or timeout.\n"
     ]
    },
    {
     "name": "stderr",
     "output_type": "stream",
     "text": [
      " 81%|████████▏ | 550/676 [58:29<13:36,  6.48s/it]"
     ]
    },
    {
     "name": "stdout",
     "output_type": "stream",
     "text": [
      "[warn] Context very long (8373 chars). May cause truncation or timeout.\n"
     ]
    },
    {
     "name": "stderr",
     "output_type": "stream",
     "text": [
      " 82%|████████▏ | 551/676 [58:33<11:56,  5.73s/it]"
     ]
    },
    {
     "name": "stdout",
     "output_type": "stream",
     "text": [
      "[warn] Context very long (8830 chars). May cause truncation or timeout.\n"
     ]
    },
    {
     "name": "stderr",
     "output_type": "stream",
     "text": [
      " 82%|████████▏ | 552/676 [58:43<14:19,  6.93s/it]"
     ]
    },
    {
     "name": "stdout",
     "output_type": "stream",
     "text": [
      "[warn] Context very long (11000 chars). May cause truncation or timeout.\n"
     ]
    },
    {
     "name": "stderr",
     "output_type": "stream",
     "text": [
      " 82%|████████▏ | 554/676 [58:57<14:22,  7.07s/it]"
     ]
    },
    {
     "name": "stdout",
     "output_type": "stream",
     "text": [
      "[warn] Context very long (8296 chars). May cause truncation or timeout.\n"
     ]
    },
    {
     "name": "stderr",
     "output_type": "stream",
     "text": [
      " 82%|████████▏ | 555/676 [59:05<14:31,  7.20s/it]"
     ]
    },
    {
     "name": "stdout",
     "output_type": "stream",
     "text": [
      "[warn] Context very long (8123 chars). May cause truncation or timeout.\n"
     ]
    },
    {
     "name": "stderr",
     "output_type": "stream",
     "text": [
      " 82%|████████▏ | 557/676 [59:29<19:36,  9.89s/it]"
     ]
    },
    {
     "name": "stdout",
     "output_type": "stream",
     "text": [
      "[warn] Context very long (9438 chars). May cause truncation or timeout.\n"
     ]
    },
    {
     "name": "stderr",
     "output_type": "stream",
     "text": [
      " 83%|████████▎ | 558/676 [59:38<18:48,  9.56s/it]"
     ]
    },
    {
     "name": "stdout",
     "output_type": "stream",
     "text": [
      "[warn] Context very long (10043 chars). May cause truncation or timeout.\n"
     ]
    },
    {
     "name": "stderr",
     "output_type": "stream",
     "text": [
      " 83%|████████▎ | 559/676 [59:42<15:39,  8.03s/it]"
     ]
    },
    {
     "name": "stdout",
     "output_type": "stream",
     "text": [
      "[warn] Context very long (9998 chars). May cause truncation or timeout.\n"
     ]
    },
    {
     "name": "stderr",
     "output_type": "stream",
     "text": [
      " 83%|████████▎ | 560/676 [59:52<16:22,  8.47s/it]"
     ]
    },
    {
     "name": "stdout",
     "output_type": "stream",
     "text": [
      "[warn] Context very long (9399 chars). May cause truncation or timeout.\n"
     ]
    },
    {
     "name": "stderr",
     "output_type": "stream",
     "text": [
      " 83%|████████▎ | 561/676 [59:58<14:40,  7.66s/it]"
     ]
    },
    {
     "name": "stdout",
     "output_type": "stream",
     "text": [
      "[warn] Context very long (10216 chars). May cause truncation or timeout.\n"
     ]
    },
    {
     "name": "stderr",
     "output_type": "stream",
     "text": [
      " 83%|████████▎ | 562/676 [1:00:10<17:09,  9.03s/it]"
     ]
    },
    {
     "name": "stdout",
     "output_type": "stream",
     "text": [
      "[warn] Context very long (8887 chars). May cause truncation or timeout.\n"
     ]
    },
    {
     "name": "stderr",
     "output_type": "stream",
     "text": [
      " 83%|████████▎ | 563/676 [1:00:22<18:41,  9.93s/it]"
     ]
    },
    {
     "name": "stdout",
     "output_type": "stream",
     "text": [
      "[warn] Context very long (8494 chars). May cause truncation or timeout.\n"
     ]
    },
    {
     "name": "stderr",
     "output_type": "stream",
     "text": [
      " 84%|████████▍ | 571/676 [1:00:57<08:53,  5.08s/it]"
     ]
    },
    {
     "name": "stdout",
     "output_type": "stream",
     "text": [
      "[warn] Context very long (11580 chars). May cause truncation or timeout.\n"
     ]
    },
    {
     "name": "stderr",
     "output_type": "stream",
     "text": [
      " 85%|████████▍ | 572/676 [1:01:03<09:17,  5.36s/it]"
     ]
    },
    {
     "name": "stdout",
     "output_type": "stream",
     "text": [
      "[warn] Context very long (10682 chars). May cause truncation or timeout.\n"
     ]
    },
    {
     "name": "stderr",
     "output_type": "stream",
     "text": [
      " 85%|████████▍ | 573/676 [1:01:15<12:44,  7.42s/it]"
     ]
    },
    {
     "name": "stdout",
     "output_type": "stream",
     "text": [
      "[warn] Context very long (10836 chars). May cause truncation or timeout.\n"
     ]
    },
    {
     "name": "stderr",
     "output_type": "stream",
     "text": [
      " 85%|████████▍ | 574/676 [1:01:25<14:03,  8.27s/it]"
     ]
    },
    {
     "name": "stdout",
     "output_type": "stream",
     "text": [
      "[warn] Context very long (10561 chars). May cause truncation or timeout.\n"
     ]
    },
    {
     "name": "stderr",
     "output_type": "stream",
     "text": [
      " 85%|████████▌ | 575/676 [1:01:30<12:18,  7.31s/it]"
     ]
    },
    {
     "name": "stdout",
     "output_type": "stream",
     "text": [
      "[warn] Context very long (8288 chars). May cause truncation or timeout.\n"
     ]
    },
    {
     "name": "stderr",
     "output_type": "stream",
     "text": [
      " 85%|████████▌ | 576/676 [1:01:41<13:48,  8.28s/it]"
     ]
    },
    {
     "name": "stdout",
     "output_type": "stream",
     "text": [
      "[warn] Context very long (10996 chars). May cause truncation or timeout.\n"
     ]
    },
    {
     "name": "stderr",
     "output_type": "stream",
     "text": [
      " 85%|████████▌ | 577/676 [1:01:48<12:46,  7.74s/it]"
     ]
    },
    {
     "name": "stdout",
     "output_type": "stream",
     "text": [
      "[warn] Context very long (10515 chars). May cause truncation or timeout.\n"
     ]
    },
    {
     "name": "stderr",
     "output_type": "stream",
     "text": [
      " 86%|████████▌ | 578/676 [1:01:56<12:59,  7.96s/it]"
     ]
    },
    {
     "name": "stdout",
     "output_type": "stream",
     "text": [
      "[warn] Context very long (11148 chars). May cause truncation or timeout.\n"
     ]
    },
    {
     "name": "stderr",
     "output_type": "stream",
     "text": [
      " 86%|████████▌ | 579/676 [1:02:07<14:07,  8.74s/it]"
     ]
    },
    {
     "name": "stdout",
     "output_type": "stream",
     "text": [
      "[warn] Context very long (11759 chars). May cause truncation or timeout.\n"
     ]
    },
    {
     "name": "stderr",
     "output_type": "stream",
     "text": [
      " 86%|████████▌ | 581/676 [1:02:18<11:19,  7.16s/it]"
     ]
    },
    {
     "name": "stdout",
     "output_type": "stream",
     "text": [
      "[warn] Context very long (8439 chars). May cause truncation or timeout.\n"
     ]
    },
    {
     "name": "stderr",
     "output_type": "stream",
     "text": [
      " 86%|████████▌ | 583/676 [1:02:39<14:02,  9.06s/it]"
     ]
    },
    {
     "name": "stdout",
     "output_type": "stream",
     "text": [
      "[warn] Context very long (9100 chars). May cause truncation or timeout.\n"
     ]
    },
    {
     "name": "stderr",
     "output_type": "stream",
     "text": [
      " 86%|████████▋ | 584/676 [1:02:43<11:40,  7.61s/it]"
     ]
    },
    {
     "name": "stdout",
     "output_type": "stream",
     "text": [
      "[warn] Context very long (10147 chars). May cause truncation or timeout.\n"
     ]
    },
    {
     "name": "stderr",
     "output_type": "stream",
     "text": [
      " 87%|████████▋ | 585/676 [1:02:56<13:51,  9.14s/it]"
     ]
    },
    {
     "name": "stdout",
     "output_type": "stream",
     "text": [
      "[warn] Context very long (9008 chars). May cause truncation or timeout.\n"
     ]
    },
    {
     "name": "stderr",
     "output_type": "stream",
     "text": [
      " 87%|████████▋ | 586/676 [1:03:02<12:35,  8.39s/it]"
     ]
    },
    {
     "name": "stdout",
     "output_type": "stream",
     "text": [
      "[warn] Context very long (9989 chars). May cause truncation or timeout.\n"
     ]
    },
    {
     "name": "stderr",
     "output_type": "stream",
     "text": [
      " 87%|████████▋ | 587/676 [1:03:08<11:19,  7.63s/it]"
     ]
    },
    {
     "name": "stdout",
     "output_type": "stream",
     "text": [
      "[warn] Context very long (10642 chars). May cause truncation or timeout.\n"
     ]
    },
    {
     "name": "stderr",
     "output_type": "stream",
     "text": [
      " 87%|████████▋ | 588/676 [1:03:17<11:49,  8.06s/it]"
     ]
    },
    {
     "name": "stdout",
     "output_type": "stream",
     "text": [
      "[warn] Context very long (8510 chars). May cause truncation or timeout.\n"
     ]
    },
    {
     "name": "stderr",
     "output_type": "stream",
     "text": [
      " 87%|████████▋ | 589/676 [1:03:23<10:35,  7.30s/it]"
     ]
    },
    {
     "name": "stdout",
     "output_type": "stream",
     "text": [
      "[warn] Context very long (9573 chars). May cause truncation or timeout.\n"
     ]
    },
    {
     "name": "stderr",
     "output_type": "stream",
     "text": [
      " 87%|████████▋ | 590/676 [1:03:28<09:36,  6.70s/it]"
     ]
    },
    {
     "name": "stdout",
     "output_type": "stream",
     "text": [
      "[warn] Context very long (9198 chars). May cause truncation or timeout.\n"
     ]
    },
    {
     "name": "stderr",
     "output_type": "stream",
     "text": [
      " 87%|████████▋ | 591/676 [1:03:33<08:46,  6.19s/it]"
     ]
    },
    {
     "name": "stdout",
     "output_type": "stream",
     "text": [
      "[warn] Context very long (9425 chars). May cause truncation or timeout.\n"
     ]
    },
    {
     "name": "stderr",
     "output_type": "stream",
     "text": [
      " 88%|████████▊ | 592/676 [1:03:37<07:54,  5.65s/it]"
     ]
    },
    {
     "name": "stdout",
     "output_type": "stream",
     "text": [
      "[warn] Context very long (10142 chars). May cause truncation or timeout.\n"
     ]
    },
    {
     "name": "stderr",
     "output_type": "stream",
     "text": [
      " 89%|████████▉ | 604/676 [1:04:49<05:36,  4.67s/it]"
     ]
    },
    {
     "name": "stdout",
     "output_type": "stream",
     "text": [
      "[warn] Context very long (10625 chars). May cause truncation or timeout.\n"
     ]
    },
    {
     "name": "stderr",
     "output_type": "stream",
     "text": [
      " 89%|████████▉ | 605/676 [1:04:59<07:08,  6.03s/it]"
     ]
    },
    {
     "name": "stdout",
     "output_type": "stream",
     "text": [
      "[warn] Context very long (10365 chars). May cause truncation or timeout.\n"
     ]
    },
    {
     "name": "stderr",
     "output_type": "stream",
     "text": [
      " 90%|████████▉ | 606/676 [1:05:03<06:19,  5.42s/it]"
     ]
    },
    {
     "name": "stdout",
     "output_type": "stream",
     "text": [
      "[warn] Context very long (10943 chars). May cause truncation or timeout.\n"
     ]
    },
    {
     "name": "stderr",
     "output_type": "stream",
     "text": [
      " 90%|████████▉ | 607/676 [1:05:13<07:52,  6.84s/it]"
     ]
    },
    {
     "name": "stdout",
     "output_type": "stream",
     "text": [
      "[warn] Context very long (10627 chars). May cause truncation or timeout.\n"
     ]
    },
    {
     "name": "stderr",
     "output_type": "stream",
     "text": [
      " 90%|████████▉ | 608/676 [1:05:17<06:45,  5.96s/it]"
     ]
    },
    {
     "name": "stdout",
     "output_type": "stream",
     "text": [
      "[warn] Context very long (9880 chars). May cause truncation or timeout.\n"
     ]
    },
    {
     "name": "stderr",
     "output_type": "stream",
     "text": [
      " 90%|█████████ | 609/676 [1:05:22<06:16,  5.62s/it]"
     ]
    },
    {
     "name": "stdout",
     "output_type": "stream",
     "text": [
      "[warn] Context very long (10412 chars). May cause truncation or timeout.\n"
     ]
    },
    {
     "name": "stderr",
     "output_type": "stream",
     "text": [
      " 90%|█████████ | 610/676 [1:05:26<05:40,  5.15s/it]"
     ]
    },
    {
     "name": "stdout",
     "output_type": "stream",
     "text": [
      "[warn] Context very long (8614 chars). May cause truncation or timeout.\n"
     ]
    },
    {
     "name": "stderr",
     "output_type": "stream",
     "text": [
      " 90%|█████████ | 611/676 [1:05:32<05:51,  5.41s/it]"
     ]
    },
    {
     "name": "stdout",
     "output_type": "stream",
     "text": [
      "[warn] Context very long (9437 chars). May cause truncation or timeout.\n"
     ]
    },
    {
     "name": "stderr",
     "output_type": "stream",
     "text": [
      " 91%|█████████ | 612/676 [1:05:39<06:16,  5.89s/it]"
     ]
    },
    {
     "name": "stdout",
     "output_type": "stream",
     "text": [
      "[warn] Context very long (12083 chars). May cause truncation or timeout.\n"
     ]
    },
    {
     "name": "stderr",
     "output_type": "stream",
     "text": [
      " 91%|█████████ | 613/676 [1:05:46<06:32,  6.23s/it]"
     ]
    },
    {
     "name": "stdout",
     "output_type": "stream",
     "text": [
      "[warn] Context very long (10928 chars). May cause truncation or timeout.\n"
     ]
    },
    {
     "name": "stderr",
     "output_type": "stream",
     "text": [
      " 91%|█████████ | 614/676 [1:05:55<07:31,  7.29s/it]"
     ]
    },
    {
     "name": "stdout",
     "output_type": "stream",
     "text": [
      "[warn] Context very long (9856 chars). May cause truncation or timeout.\n"
     ]
    },
    {
     "name": "stderr",
     "output_type": "stream",
     "text": [
      " 91%|█████████ | 615/676 [1:06:07<08:46,  8.64s/it]"
     ]
    },
    {
     "name": "stdout",
     "output_type": "stream",
     "text": [
      "[warn] Context very long (8615 chars). May cause truncation or timeout.\n"
     ]
    },
    {
     "name": "stderr",
     "output_type": "stream",
     "text": [
      " 91%|█████████ | 616/676 [1:06:14<08:04,  8.07s/it]"
     ]
    },
    {
     "name": "stdout",
     "output_type": "stream",
     "text": [
      "[warn] Context very long (10818 chars). May cause truncation or timeout.\n"
     ]
    },
    {
     "name": "stderr",
     "output_type": "stream",
     "text": [
      " 91%|█████████▏| 618/676 [1:06:38<09:45, 10.10s/it]"
     ]
    },
    {
     "name": "stdout",
     "output_type": "stream",
     "text": [
      "[warn] Context very long (10388 chars). May cause truncation or timeout.\n"
     ]
    },
    {
     "name": "stderr",
     "output_type": "stream",
     "text": [
      " 92%|█████████▏| 619/676 [1:06:44<08:30,  8.95s/it]"
     ]
    },
    {
     "name": "stdout",
     "output_type": "stream",
     "text": [
      "[warn] Context very long (8883 chars). May cause truncation or timeout.\n"
     ]
    },
    {
     "name": "stderr",
     "output_type": "stream",
     "text": [
      " 92%|█████████▏| 620/676 [1:06:55<08:49,  9.46s/it]"
     ]
    },
    {
     "name": "stdout",
     "output_type": "stream",
     "text": [
      "[warn] Context very long (8483 chars). May cause truncation or timeout.\n"
     ]
    },
    {
     "name": "stderr",
     "output_type": "stream",
     "text": [
      " 92%|█████████▏| 622/676 [1:07:14<08:17,  9.21s/it]"
     ]
    },
    {
     "name": "stdout",
     "output_type": "stream",
     "text": [
      "[warn] Context very long (8294 chars). May cause truncation or timeout.\n"
     ]
    },
    {
     "name": "stderr",
     "output_type": "stream",
     "text": [
      " 92%|█████████▏| 623/676 [1:07:21<07:28,  8.46s/it]"
     ]
    },
    {
     "name": "stdout",
     "output_type": "stream",
     "text": [
      "[warn] Context very long (8929 chars). May cause truncation or timeout.\n"
     ]
    },
    {
     "name": "stderr",
     "output_type": "stream",
     "text": [
      " 92%|█████████▏| 624/676 [1:07:30<07:24,  8.54s/it]"
     ]
    },
    {
     "name": "stdout",
     "output_type": "stream",
     "text": [
      "[warn] Context very long (8860 chars). May cause truncation or timeout.\n"
     ]
    },
    {
     "name": "stderr",
     "output_type": "stream",
     "text": [
      " 95%|█████████▌| 643/676 [1:09:43<04:27,  8.09s/it]"
     ]
    },
    {
     "name": "stdout",
     "output_type": "stream",
     "text": [
      "[warn] Context very long (9289 chars). May cause truncation or timeout.\n"
     ]
    },
    {
     "name": "stderr",
     "output_type": "stream",
     "text": [
      " 95%|█████████▌| 644/676 [1:09:50<04:01,  7.55s/it]"
     ]
    },
    {
     "name": "stdout",
     "output_type": "stream",
     "text": [
      "[warn] Context very long (9228 chars). May cause truncation or timeout.\n"
     ]
    },
    {
     "name": "stderr",
     "output_type": "stream",
     "text": [
      " 95%|█████████▌| 645/676 [1:09:54<03:29,  6.77s/it]"
     ]
    },
    {
     "name": "stdout",
     "output_type": "stream",
     "text": [
      "[warn] Context very long (10389 chars). May cause truncation or timeout.\n"
     ]
    },
    {
     "name": "stderr",
     "output_type": "stream",
     "text": [
      " 96%|█████████▌| 646/676 [1:10:04<03:46,  7.57s/it]"
     ]
    },
    {
     "name": "stdout",
     "output_type": "stream",
     "text": [
      "[warn] Context very long (11969 chars). May cause truncation or timeout.\n"
     ]
    },
    {
     "name": "stderr",
     "output_type": "stream",
     "text": [
      " 96%|█████████▌| 647/676 [1:10:09<03:18,  6.84s/it]"
     ]
    },
    {
     "name": "stdout",
     "output_type": "stream",
     "text": [
      "[warn] Context very long (10472 chars). May cause truncation or timeout.\n"
     ]
    },
    {
     "name": "stderr",
     "output_type": "stream",
     "text": [
      " 96%|█████████▌| 648/676 [1:10:15<03:01,  6.47s/it]"
     ]
    },
    {
     "name": "stdout",
     "output_type": "stream",
     "text": [
      "[warn] Context very long (10998 chars). May cause truncation or timeout.\n"
     ]
    },
    {
     "name": "stderr",
     "output_type": "stream",
     "text": [
      " 96%|█████████▌| 649/676 [1:10:19<02:35,  5.74s/it]"
     ]
    },
    {
     "name": "stdout",
     "output_type": "stream",
     "text": [
      "[warn] Context very long (11160 chars). May cause truncation or timeout.\n"
     ]
    },
    {
     "name": "stderr",
     "output_type": "stream",
     "text": [
      " 98%|█████████▊| 663/676 [1:11:28<00:51,  3.95s/it]"
     ]
    },
    {
     "name": "stdout",
     "output_type": "stream",
     "text": [
      "[warn] Context very long (11255 chars). May cause truncation or timeout.\n"
     ]
    },
    {
     "name": "stderr",
     "output_type": "stream",
     "text": [
      " 98%|█████████▊| 664/676 [1:11:31<00:45,  3.75s/it]"
     ]
    },
    {
     "name": "stdout",
     "output_type": "stream",
     "text": [
      "[warn] Context very long (9727 chars). May cause truncation or timeout.\n"
     ]
    },
    {
     "name": "stderr",
     "output_type": "stream",
     "text": [
      " 98%|█████████▊| 665/676 [1:11:37<00:49,  4.47s/it]"
     ]
    },
    {
     "name": "stdout",
     "output_type": "stream",
     "text": [
      "[warn] Context very long (8277 chars). May cause truncation or timeout.\n"
     ]
    },
    {
     "name": "stderr",
     "output_type": "stream",
     "text": [
      " 99%|█████████▊| 666/676 [1:11:42<00:46,  4.65s/it]"
     ]
    },
    {
     "name": "stdout",
     "output_type": "stream",
     "text": [
      "[warn] Context very long (10337 chars). May cause truncation or timeout.\n"
     ]
    },
    {
     "name": "stderr",
     "output_type": "stream",
     "text": [
      " 99%|█████████▊| 667/676 [1:11:46<00:39,  4.40s/it]"
     ]
    },
    {
     "name": "stdout",
     "output_type": "stream",
     "text": [
      "[warn] Context very long (9590 chars). May cause truncation or timeout.\n"
     ]
    },
    {
     "name": "stderr",
     "output_type": "stream",
     "text": [
      "100%|██████████| 676/676 [1:12:43<00:00,  6.45s/it]\n"
     ]
    }
   ],
   "execution_count": 7
  }
 ],
 "metadata": {
  "kernelspec": {
   "display_name": "Python 3",
   "language": "python",
   "name": "python3"
  },
  "language_info": {
   "codemirror_mode": {
    "name": "ipython",
    "version": 2
   },
   "file_extension": ".py",
   "mimetype": "text/x-python",
   "name": "python",
   "nbconvert_exporter": "python",
   "pygments_lexer": "ipython2",
   "version": "2.7.6"
  }
 },
 "nbformat": 4,
 "nbformat_minor": 5
}
